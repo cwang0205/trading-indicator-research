{
 "cells": [
  {
   "cell_type": "markdown",
   "id": "9224a0c5-f57c-4056-bb03-11ec5065e77b",
   "metadata": {},
   "source": [
    "# apply Fred St.louis site to pull economic data historical"
   ]
  },
  {
   "cell_type": "code",
   "execution_count": 4,
   "id": "36ac76a2-3590-4fc4-a57e-86dc42d5249d",
   "metadata": {},
   "outputs": [
    {
     "name": "stdout",
     "output_type": "stream",
     "text": [
      "Collecting fredapi\n",
      "  Downloading fredapi-0.5.1-py3-none-any.whl.metadata (5.0 kB)\n",
      "Requirement already satisfied: pandas in c:\\users\\chenl\\anaconda3\\envs\\notebook\\lib\\site-packages (from fredapi) (2.1.4)\n",
      "Requirement already satisfied: numpy<2,>=1.23.2 in c:\\users\\chenl\\anaconda3\\envs\\notebook\\lib\\site-packages (from pandas->fredapi) (1.26.3)\n",
      "Requirement already satisfied: python-dateutil>=2.8.2 in c:\\users\\chenl\\anaconda3\\envs\\notebook\\lib\\site-packages (from pandas->fredapi) (2.8.2)\n",
      "Requirement already satisfied: pytz>=2020.1 in c:\\users\\chenl\\anaconda3\\envs\\notebook\\lib\\site-packages (from pandas->fredapi) (2023.3.post1)\n",
      "Requirement already satisfied: tzdata>=2022.1 in c:\\users\\chenl\\anaconda3\\envs\\notebook\\lib\\site-packages (from pandas->fredapi) (2023.4)\n",
      "Requirement already satisfied: six>=1.5 in c:\\users\\chenl\\anaconda3\\envs\\notebook\\lib\\site-packages (from python-dateutil>=2.8.2->pandas->fredapi) (1.16.0)\n",
      "Downloading fredapi-0.5.1-py3-none-any.whl (11 kB)\n",
      "Installing collected packages: fredapi\n",
      "Successfully installed fredapi-0.5.1\n"
     ]
    }
   ],
   "source": [
    "# pip install requests beautifulsoup4\n",
    "# !pip install requests\n",
    "# !pip install fredapi"
   ]
  },
  {
   "cell_type": "markdown",
   "id": "9109de53-b015-4edf-96b2-14c134b99716",
   "metadata": {},
   "source": [
    "API:18f5f8ba0230f499d9ce7e70be0b4f15"
   ]
  },
  {
   "cell_type": "code",
   "execution_count": 1,
   "id": "01f5dbed-82a3-45dd-a28c-d34f1ce9a582",
   "metadata": {},
   "outputs": [],
   "source": [
    "import fredapi as fa\n",
    "import pandas as pd\n",
    "fred=fa.Fred(\"18f5f8ba0230f499d9ce7e70be0b4f15\")"
   ]
  },
  {
   "cell_type": "code",
   "execution_count": 2,
   "id": "ab51c0fe-265d-499c-b0ba-ae1535904184",
   "metadata": {},
   "outputs": [
    {
     "name": "stdout",
     "output_type": "stream",
     "text": [
      "GDP data:\n",
      "1946-01-01          NaN\n",
      "1946-04-01          NaN\n",
      "1946-07-01          NaN\n",
      "1946-10-01          NaN\n",
      "1947-01-01      243.164\n",
      "                ...    \n",
      "2022-10-01    26408.405\n",
      "2023-01-01    26813.601\n",
      "2023-04-01    27063.012\n",
      "2023-07-01    27610.128\n",
      "2023-10-01    27944.627\n",
      "Length: 312, dtype: float64\n",
      "CPI data:\n",
      "1947-01-01     21.480\n",
      "1947-02-01     21.620\n",
      "1947-03-01     22.000\n",
      "1947-04-01     22.000\n",
      "1947-05-01     21.950\n",
      "               ...   \n",
      "2023-10-01    307.531\n",
      "2023-11-01    308.024\n",
      "2023-12-01    308.742\n",
      "2024-01-01    309.685\n",
      "2024-02-01    311.054\n",
      "Length: 926, dtype: float64\n",
      "PCE data:\n",
      "1959-01-01      306.1\n",
      "1959-02-01      309.6\n",
      "1959-03-01      312.7\n",
      "1959-04-01      312.2\n",
      "1959-05-01      316.1\n",
      "               ...   \n",
      "2023-09-01    18791.5\n",
      "2023-10-01    18810.6\n",
      "2023-11-01    18883.6\n",
      "2023-12-01    19010.3\n",
      "2024-01-01    19054.2\n",
      "Length: 781, dtype: float64\n",
      "FOMC data:\n",
      "1954-07-01    0.80\n",
      "1954-08-01    1.22\n",
      "1954-09-01    1.07\n",
      "1954-10-01    0.85\n",
      "1954-11-01    0.83\n",
      "              ... \n",
      "2023-10-01    5.33\n",
      "2023-11-01    5.33\n",
      "2023-12-01    5.33\n",
      "2024-01-01    5.33\n",
      "2024-02-01    5.33\n",
      "Length: 836, dtype: float64\n"
     ]
    }
   ],
   "source": [
    "# Define the series IDs for the indicators\n",
    "ids = {\n",
    "    'GDP': 'GDP',\n",
    "    'CPI': 'CPIAUCSL',\n",
    "    'PCE': 'PCE',\n",
    "    \"FOMC\": \"FEDFUNDS\"\n",
    "}\n",
    "\n",
    "# Dictionary to store the data for each indicator\n",
    "indicator_data = {}\n",
    "\n",
    "# Loop through the series IDs and pull the data\n",
    "for indicator, id in ids.items():\n",
    "    # Get the data for the series\n",
    "    data = fred.get_series(id)\n",
    "    \n",
    "    # Store the data in the dictionary\n",
    "    indicator_data[indicator] = data\n",
    "\n",
    "# Print the data for each indicator\n",
    "for indicator, data in indicator_data.items():\n",
    "    print(f'{indicator} data:')\n",
    "    print(data)"
   ]
  },
  {
   "cell_type": "markdown",
   "id": "c51f4f2d-1d6d-4c9a-873f-edbd8bc9f985",
   "metadata": {},
   "source": [
    "# pull data releasing date: \n",
    "require mannual pulling economic calenders from each source\n",
    "\n"
   ]
  },
  {
   "cell_type": "code",
   "execution_count": null,
   "id": "a38b0740-5c5e-4f55-9d46-053c0be2b7a6",
   "metadata": {},
   "outputs": [],
   "source": []
  },
  {
   "cell_type": "code",
   "execution_count": null,
   "id": "149dd130-5857-4ec4-8955-82ef5d31ca05",
   "metadata": {},
   "outputs": [],
   "source": []
  }
 ],
 "metadata": {
  "kernelspec": {
   "display_name": "Python 3 (ipykernel)",
   "language": "python",
   "name": "python3"
  },
  "language_info": {
   "codemirror_mode": {
    "name": "ipython",
    "version": 3
   },
   "file_extension": ".py",
   "mimetype": "text/x-python",
   "name": "python",
   "nbconvert_exporter": "python",
   "pygments_lexer": "ipython3",
   "version": "3.11.7"
  }
 },
 "nbformat": 4,
 "nbformat_minor": 5
}
