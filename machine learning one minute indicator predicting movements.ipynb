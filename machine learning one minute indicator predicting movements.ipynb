{
 "cells": [
  {
   "cell_type": "code",
   "execution_count": 148,
   "id": "3a7699e9-0d58-40e9-a627-6d8b9c7321c4",
   "metadata": {},
   "outputs": [],
   "source": [
    "import os\n",
    "import numpy as np\n",
    "import yfinance as yf\n",
    "import pandas as pd\n",
    "import matplotlib.pyplot as plt\n",
    "import plotly.express as px\n",
    "import time\n",
    "import fredapi as fa\n",
    "import pandas_ta as ta\n",
    "from datetime import datetime\n",
    "# from sklearn.linear_model import LinearRegression\n"
   ]
  },
  {
   "cell_type": "code",
   "execution_count": 149,
   "id": "be265844-a73d-4a07-8611-3bc5624ed888",
   "metadata": {},
   "outputs": [],
   "source": [
    "# 1.load data，standardize columns, date&time\n",
    "directory = \"C:/Users/chenl/market data export/MINUTE/\"\n",
    "SPY = pd.read_csv(directory + \"SPY.csv\", parse_dates=[\"date\"])\n",
    "SPY['time'] = SPY['date'].dt.time\n",
    "SPY['date'] = pd.to_datetime(SPY['date'].dt.date)\n",
    "# Set the multi-level index using the date and time columns\n",
    "SPY['time'] = SPY['time'].astype(str).str.zfill(8)\n",
    "SPY.set_index(['date', 'time'], inplace=True)\n",
    "\n",
    "# Filter 9:30-16:00\n",
    "SPY = SPY.loc[(SPY.index.get_level_values('time') >= '09:00:00') & \n",
    "              (SPY.index.get_level_values('time') <= '16:00:00')&\n",
    "              (SPY.index.get_level_values('date') >= pd.to_datetime('2024-04-01'))&\n",
    "              (SPY.index.get_level_values('date') <= pd.to_datetime('2024-08-21'))\n",
    "              ]\n",
    "# 2. create intraday indicators value columns\n",
    "#define ewm function for mannual SMI calcualtion \n",
    "def ema(series, period):\n",
    "    return series.ewm(span=period, adjust=False).mean()\n",
    "def intraday_indicators(group):\n",
    "    # SMA\n",
    "    group['SMA_5'] = ta.sma(group['close'], length=5)\n",
    "    group['SMA_9'] = ta.sma(group['close'], length=9)\n",
    "    group['SMA_18'] = ta.sma(group['close'], length=18)\n",
    "    # group['SMA_50'] = ta.sma(group['close'], length=50)\n",
    "    # group['SMA_100'] = ta.sma(group['close'], length=100) #use 50 and 100 to found cloud, bearish if 50 is below 100, bull if 50 is above 100\n",
    "    # group['SMA_200'] = ta.sma(group['close'], length=100)\n",
    "\n",
    "    # ADX: Calculate the ADX using high, low, and close prices,\n",
    "    #+DI > -DI: The trend is upward. -DI > +DI: The trend is downward.\n",
    "    #0-25: Weak or no trend. 25-50: Strong trend. 50-75: Very strong trend. 75-100: Extremely strong trend.\n",
    "    group['ADX'] = ta.adx(SPY['high'], SPY['low'], SPY['close'], length=20)['ADX_20']\n",
    "    \n",
    "    #RSI \n",
    "    group['RSI_21'] = ta.rsi(group['close'], length=21)\n",
    "\n",
    "    #MACD: create new dp with multiple columne then merge back\n",
    "    macd = ta.macd(group['close'], fast=12, slow=26, signal=9)\n",
    "    group['MACD'] = macd['MACD_12_26_9']\n",
    "    group['MACD_hist'] = macd['MACDh_12_26_9']\n",
    "    group['MACD_signal'] = macd['MACDs_12_26_9']\n",
    "\n",
    "    #bollinger: create new dp with multiple columne then merge back\n",
    "    bollinger = ta.bbands(group['close'], length=20, std=2)\n",
    "    group['Bollinger_upper'] = bollinger['BBU_20_2.0']\n",
    "    group['Bollinger_middle'] = bollinger['BBM_20_2.0']\n",
    "    group['Bollinger_lower'] = bollinger['BBL_20_2.0']\n",
    "    group['Bollinger_width'] = (bollinger['BBU_20_2.0']-bollinger['BBL_20_2.0'])/bollinger['BBM_20_2.0']\n",
    "    \n",
    "    # ATR - volatility measure, max up and down range, used for gain collection stop loss \n",
    "    group[\"ATR\"]=ta.atr(group.high, group.low, group.close, length =14)\n",
    "    group[\"rolling_std_14\"]=group[\"close\"].pct_change().rolling(window=14).std()* group[\"close\"]\n",
    "    # Calculate Chandelier Exit\n",
    "    group['Chandelier_Exit'] = group['high'].rolling(window=30).max() - group['ATR'] * 1.2\n",
    "     \n",
    "    # SMI: difference between the current closing and the median high/low price range over a specified period the k period. \n",
    "    # This difference is then divided by the absolute value of the high/low range and multiplied by 100\n",
    "    # SMI line crosses above the signal line, considered bullish, when the SMI line crosses below the signal line, a bearish signal\n",
    "    # relativeRange = close - (highestHigh + lowestLow) / 2; double exponential moving average: ds = EMA(EMA(relativeRange, D);\n",
    "    # dhl = EMA(EMA((highestHigh - lowestLow), D; smi = 200 * (ds / dhl); signal = EMA(smi, EMA period)\n",
    "    # Calculate SMI manually\n",
    "    k_period = 14\n",
    "    d_period = 5\n",
    "    ema_period = 3   \n",
    "    # Determine the highest high and lowest low within the K period\n",
    "    group['highestHigh'] = group['high'].rolling(window=k_period).max()\n",
    "    group['lowestLow'] = group['low'].rolling(window=k_period).min()\n",
    "    # Calculate relative range\n",
    "    group['relativeRange'] = group['close'] - (group['highestHigh'] + group['lowestLow']) / 2\n",
    "    # Calculate double exponential moving averages\n",
    "    group['ds'] = ema(ema(group['relativeRange'], d_period), d_period)\n",
    "    group['dhl'] = ema(ema(group['highestHigh'] - group['lowestLow'], d_period), d_period)\n",
    "    # Calculate SMI\n",
    "    group['SMI'] = 200 * (group['ds'] / group['dhl'])\n",
    "    # Calculate Signal line\n",
    "    group['SMI_signal'] = ema(group['SMI'], ema_period)  \n",
    "\n",
    "    # warning: the ta package SMI line and signal line calculation is wrong!! don't use it!\n",
    "    # Stochastic Momentum Index: SMI Line: The main line; Signal line (D); Oscillator (K): smoothed version of the SMI\n",
    "    # smi = ta.smi(high=group['high'], low=group['low'], close=group['close'], fast_k=5, slow_k=3, slow_d=3)\n",
    "    # group['SMI'] = smi['SMI_5_20_5']*100 #main line\n",
    "    # group['SMI_signal'] = smi['SMIs_5_20_5']*100#Signal line (D)\n",
    "    \n",
    "    #target change\n",
    "    group['pct_change_2min'] = group['close'].pct_change(periods=-2) * 100\n",
    "    group['pct_change_5min'] = group['close'].pct_change(periods=-5) * 100\n",
    "    group['pct_change_7min'] = group['close'].pct_change(periods=-7) * 100\n",
    "    group['pct_change_10min'] = group['close'].pct_change(periods=-10) * 100\n",
    "    group['pct_change_20min'] = group['close'].pct_change(periods=-20) * 100\n",
    "    group['pct_change_30min'] = group['close'].pct_change(periods=-30) * 100\n",
    "\n",
    "    #target direction\n",
    "    group['direction_2min'] = np.sign(group['close'].shift(-2) - group['close'])\n",
    "    group['direction_5min'] = np.sign(group['close'].shift(-5) - group['close'])\n",
    "    group['direction_7min'] = np.sign(group['close'].shift(-7) - group['close'])\n",
    "    group['direction_10min'] = np.sign(group['close'].shift(-10) - group['close'])\n",
    "    group['direction_20min'] = np.sign(group['close'].shift(-20) - group['close'])\n",
    "    group['direction_30min'] = np.sign(group['close'].shift(-30) - group['close']) \n",
    "    return group\n",
    "\n",
    "# Reset the index, group by the 'date' column, apply the function, and set the multi-level index again\n",
    "SPY.reset_index(inplace=True)\n",
    "SPY = SPY.groupby('date').apply(intraday_indicators)\n",
    "SPY.set_index(['date', 'time'], inplace=True)\n",
    "\n",
    "# 3. generate signals columns for each strategy\n",
    "def generate_signals(df):\n",
    "    df['signal_ma'] = 0\n",
    "    df['signal_rsi'] = 0\n",
    "    df['signal_macd'] = 0\n",
    "    df['signal_bollinger'] = 0\n",
    "    df['signal_stochastic'] = 0\n",
    "    df[\"signal_BB+RSI\"]=0\n",
    "    df[\"signal_Chandelier\"]=0\n",
    "    for date, group in df.groupby('date'):\n",
    "        for i in range(1, len(group)):            \n",
    "            if group.iloc[i][['SMA_5', 'SMA_9', 'SMA_18', 'RSI_21', 'MACD', 'MACD_signal', 'Bollinger_lower', 'Bollinger_upper']].isna().any():\n",
    "                continue\n",
    "            if group.iloc[i]['SMA_5'] < group.iloc[i]['SMA_18'] and group.iloc[i-1]['SMA_5'] >= group.iloc[i-1]['SMA_18'] :\n",
    "                df.at[group.index[i], 'signal_ma'] = 1\n",
    "            elif group.iloc[i]['SMA_5'] > group.iloc[i]['SMA_18'] and group.iloc[i-1]['SMA_5'] <= group.iloc[i-1]['SMA_18']:\n",
    "                df.at[group.index[i], 'signal_ma'] = -1\n",
    "            \n",
    "            if group.iloc[i]['open'] < group.iloc[i]['Bollinger_lower'] and group.iloc[i]['close'] > group.iloc[i]['Bollinger_lower'] and group.iloc[i][\"SMA_5\"] > group.iloc[i]['SMA_18']:\n",
    "                df.at[group.index[i], 'signal_bollinger'] = 1\n",
    "            elif group.iloc[i]['open'] > group.iloc[i]['Bollinger_upper'] and group.iloc[i]['close'] < group.iloc[i]['Bollinger_upper']:\n",
    "                df.at[group.index[i], 'signal_bollinger'] = -1                  \n",
    "\n",
    "            if group.iloc[i]['MACD'] > group.iloc[i]['MACD_signal'] and group.iloc[i-1]['MACD'] <= group.iloc[i-1]['MACD_signal'] and group.iloc[i]['MACD']<0:\n",
    "                df.at[group.index[i], 'signal_macd'] = 1\n",
    "            elif group.iloc[i]['MACD'] < group.iloc[i]['MACD_signal'] and group.iloc[i-1]['MACD'] >= group.iloc[i-1]['MACD_signal'] and group.iloc[i]['MACD']>0:\n",
    "                df.at[group.index[i], 'signal_macd'] = -1\n",
    "        \n",
    "            if group.iloc[i]['RSI_21'] >= 30 and group.iloc[i-1]['RSI_21'] < 30 and group.iloc[i][\"SMA_5\"] > group.iloc[i]['SMA_18']:\n",
    "                df.at[group.index[i], 'signal_rsi'] = 1\n",
    "            elif group.iloc[i]['RSI_21'] < 55 and group.iloc[i-1]['RSI_21'] >= 55:\n",
    "                df.at[group.index[i], 'signal_rsi'] = -1\n",
    "            \n",
    "            if (group.iloc[i]['SMI'] > group.iloc[i]['SMI_signal'] and group.iloc[i-1]['SMI'] <= group.iloc[i-1]['SMI_signal'] and group.iloc[i]['SMI']<=-30 and group.iloc[i]['MACD']>0) or (group.iloc[i]['SMI']>-40 and group.iloc[i-1]['SMI']<=-40 and group.iloc[i]['MACD']>0):\n",
    "                df.at[group.index[i], 'signal_stochastic'] = 1\n",
    "            elif (group.iloc[i]['SMI'] < group.iloc[i]['SMI_signal'] and group.iloc[i-1]['SMI'] >= group.iloc[i-1]['SMI_signal'] and group.iloc[i]['SMI'] >20) or (group.iloc[i]['SMI']>40 and group.iloc[i-1]['SMI']<=40):\n",
    "                df.at[group.index[i], 'signal_stochastic'] = -1   \n",
    "            # hybrid\n",
    "            if group.iloc[i]['SMI'] <-55 and group.iloc[i]['close'] < group.iloc[i]['Bollinger_lower'] and group.iloc[i]['Bollinger_width']> 0.002 :\n",
    "                df.at[group.index[i], \"signal_BB+SMI\"] = 1\n",
    "            elif group.iloc[i]['SMI'] >45 or group.iloc[i]['close'] > group.iloc[i]['Bollinger_upper'] or (group.iloc[i]['SMI'] < group.iloc[i]['SMI_signal'] and group.iloc[i-1]['SMI'] >= group.iloc[i-1]['SMI_signal']):\n",
    "                df.at[group.index[i], \"signal_BB+SMI\"] = -1  \n",
    "            \n",
    "            #buy and sell signal for chandelier buy and sell\n",
    "            if group.iloc[i]['close'] > group.iloc[i]['Chandelier_Exit'] and group.iloc[i-1]['MACD'] > group.iloc[i]['MACD_signal']:\n",
    "                df.at[group.index[i], 'signal_Chandelier'] = 1\n",
    "            elif group.iloc[i]['close'] < group.iloc[i]['Chandelier_Exit'] and group.iloc[i-1]['MACD'] < group.iloc[i]['MACD_signal']:\n",
    "                df.at[group.index[i], 'signal_Chandelier'] = -1                \n",
    "\n",
    "    return df\n",
    "    \n",
    "SPY = generate_signals(SPY)\n"
   ]
  },
  {
   "cell_type": "code",
   "execution_count": null,
   "id": "adf4398e-1238-4edf-81cf-fb31438201d0",
   "metadata": {},
   "outputs": [],
   "source": []
  },
  {
   "cell_type": "code",
   "execution_count": 150,
   "id": "84583418-312f-4487-b2aa-1a5545b6d70c",
   "metadata": {},
   "outputs": [],
   "source": [
    "import lightgbm as lgb\n",
    "from sklearn.ensemble import RandomForestClassifier, RandomForestRegressor\n",
    "from sklearn.tree import DecisionTreeClassifier, DecisionTreeRegressor\n",
    "import lightgbm as lgb\n",
    "from sklearn.model_selection import train_test_split\n",
    "from sklearn.model_selection import GridSearchCV\n",
    "from sklearn.metrics import accuracy_score, mean_squared_error, classification_report, r2_score\n",
    "from sklearn.model_selection import cross_val_score\n",
    "from sklearn.preprocessing import OneHotEncoder\n"
   ]
  },
  {
   "cell_type": "markdown",
   "id": "8cedf3a7-7a3e-48f0-b968-652b2dc20a58",
   "metadata": {},
   "source": [
    "# data prep & feature creation"
   ]
  },
  {
   "cell_type": "code",
   "execution_count": 151,
   "id": "b978053f-3629-4852-befb-5631da0fd3e8",
   "metadata": {},
   "outputs": [],
   "source": [
    "# reset index, and make huor of the day as a feature\n",
    "SPY.reset_index(inplace=True) #reset index date and time\n",
    "SPY['hour of day'] = SPY['time'].str[:2] #create a column call the hour of the day"
   ]
  },
  {
   "cell_type": "code",
   "execution_count": 152,
   "id": "e3220274-f33d-44ec-8142-8a6ea914f26a",
   "metadata": {},
   "outputs": [],
   "source": [
    "# distance from MA in ATR\n",
    "SMA_list=['SMA_5','SMA_9', 'SMA_18',  \n",
    "          # 'SMA_50','SMA_100', 'SMA_200'\n",
    "         ]\n",
    "for sma in SMA_list:\n",
    "    SPY[f\"distance from {sma} ATR\"]=(SPY[\"close\"]-SPY[sma])/SPY[\"ATR\"]"
   ]
  },
  {
   "cell_type": "code",
   "execution_count": 153,
   "id": "c095ceb8-cc05-491c-896f-b30d377d1df2",
   "metadata": {},
   "outputs": [],
   "source": [
    "# distance from MA in Vol, pending now \n",
    "# SMA_list=['SMA_5','SMA_9', 'SMA_18', 'SMA_50', 'SMA_100', 'SMA_200']\n",
    "# for sma in SMA_list:\n",
    "#     SPY[f\"distance from {sma} std\"]=(SPY[\"close\"]-SPY[sma])/SPY[\"rolling_std_14\"]"
   ]
  },
  {
   "cell_type": "code",
   "execution_count": 154,
   "id": "3faab6b1-2139-44ce-b15d-160956b1b5a2",
   "metadata": {},
   "outputs": [],
   "source": [
    "SPY = SPY.loc[(SPY['time'] >= '09:30:00') & \n",
    "              (SPY['time'] <= '16:00:00')\n",
    "              ]\n",
    "SPY=SPY.drop(columns=['date',\"time\"])\n",
    "SPY = pd.get_dummies(SPY, columns=['hour of day'], drop_first=True)\n"
   ]
  },
  {
   "cell_type": "code",
   "execution_count": 155,
   "id": "248135b0-be3a-457b-8ab9-c630f458281b",
   "metadata": {},
   "outputs": [
    {
     "data": {
      "text/plain": [
       "30498"
      ]
     },
     "execution_count": 155,
     "metadata": {},
     "output_type": "execute_result"
    }
   ],
   "source": [
    "SPY.columns\n",
    "len(SPY)"
   ]
  },
  {
   "cell_type": "code",
   "execution_count": 156,
   "id": "8c65fd81-2fd1-4514-ac36-fa71c17815b1",
   "metadata": {},
   "outputs": [
    {
     "data": {
      "text/plain": [
       "open                            0\n",
       "high                            0\n",
       "low                             0\n",
       "close                           0\n",
       "volume                          0\n",
       "SMA_5                           0\n",
       "SMA_9                           0\n",
       "SMA_18                          0\n",
       "RSI_21                          0\n",
       "MACD                            0\n",
       "MACD_hist                     234\n",
       "MACD_signal                   234\n",
       "Bollinger_upper                 0\n",
       "Bollinger_middle                0\n",
       "Bollinger_lower                 0\n",
       "Bollinger_width                 0\n",
       "ATR                             0\n",
       "rolling_std_14                  0\n",
       "Chandelier_Exit                 0\n",
       "highestHigh                     0\n",
       "lowestLow                       0\n",
       "relativeRange                   0\n",
       "ds                              0\n",
       "dhl                             0\n",
       "SMI                             0\n",
       "SMI_signal                      0\n",
       "pct_change_2min               156\n",
       "pct_change_5min               390\n",
       "pct_change_7min               546\n",
       "pct_change_10min              780\n",
       "pct_change_20min             1560\n",
       "pct_change_30min             2340\n",
       "direction_2min                156\n",
       "direction_5min                390\n",
       "direction_7min                546\n",
       "direction_10min               780\n",
       "direction_20min              1560\n",
       "direction_30min              2340\n",
       "signal_ma                       0\n",
       "signal_rsi                      0\n",
       "signal_macd                     0\n",
       "signal_bollinger                0\n",
       "signal_stochastic               0\n",
       "signal_BB+RSI                   0\n",
       "signal_Chandelier               0\n",
       "signal_BB+SMI               19720\n",
       "distance from SMA_5 ATR         0\n",
       "distance from SMA_9 ATR         0\n",
       "distance from SMA_18 ATR        0\n",
       "hour of day_10                  0\n",
       "hour of day_11                  0\n",
       "hour of day_12                  0\n",
       "hour of day_13                  0\n",
       "hour of day_14                  0\n",
       "hour of day_15                  0\n",
       "hour of day_16                  0\n",
       "dtype: int64"
      ]
     },
     "execution_count": 156,
     "metadata": {},
     "output_type": "execute_result"
    }
   ],
   "source": [
    "SPY.isna().sum()"
   ]
  },
  {
   "cell_type": "markdown",
   "id": "a2f2ce1f-02c0-4860-9577-049638886426",
   "metadata": {},
   "source": [
    "# training & testing\n"
   ]
  },
  {
   "cell_type": "code",
   "execution_count": 157,
   "id": "2ee8bd0a-6575-43dc-8c6f-f2119ce3a70a",
   "metadata": {},
   "outputs": [
    {
     "name": "stderr",
     "output_type": "stream",
     "text": [
      "C:\\Users\\chenl\\anaconda3\\envs\\notebook\\Lib\\site-packages\\sklearn\\metrics\\_classification.py:1471: UndefinedMetricWarning: Precision is ill-defined and being set to 0.0 in labels with no predicted samples. Use `zero_division` parameter to control this behavior.\n",
      "  _warn_prf(average, modifier, msg_start, len(result))\n",
      "C:\\Users\\chenl\\anaconda3\\envs\\notebook\\Lib\\site-packages\\sklearn\\metrics\\_classification.py:1471: UndefinedMetricWarning: Precision is ill-defined and being set to 0.0 in labels with no predicted samples. Use `zero_division` parameter to control this behavior.\n",
      "  _warn_prf(average, modifier, msg_start, len(result))\n",
      "C:\\Users\\chenl\\anaconda3\\envs\\notebook\\Lib\\site-packages\\sklearn\\metrics\\_classification.py:1471: UndefinedMetricWarning: Precision is ill-defined and being set to 0.0 in labels with no predicted samples. Use `zero_division` parameter to control this behavior.\n",
      "  _warn_prf(average, modifier, msg_start, len(result))\n",
      "C:\\Users\\chenl\\anaconda3\\envs\\notebook\\Lib\\site-packages\\sklearn\\metrics\\_classification.py:1471: UndefinedMetricWarning: Precision is ill-defined and being set to 0.0 in labels with no predicted samples. Use `zero_division` parameter to control this behavior.\n",
      "  _warn_prf(average, modifier, msg_start, len(result))\n",
      "C:\\Users\\chenl\\anaconda3\\envs\\notebook\\Lib\\site-packages\\sklearn\\metrics\\_classification.py:1471: UndefinedMetricWarning: Precision is ill-defined and being set to 0.0 in labels with no predicted samples. Use `zero_division` parameter to control this behavior.\n",
      "  _warn_prf(average, modifier, msg_start, len(result))\n",
      "C:\\Users\\chenl\\anaconda3\\envs\\notebook\\Lib\\site-packages\\sklearn\\metrics\\_classification.py:1471: UndefinedMetricWarning: Precision is ill-defined and being set to 0.0 in labels with no predicted samples. Use `zero_division` parameter to control this behavior.\n",
      "  _warn_prf(average, modifier, msg_start, len(result))\n",
      "C:\\Users\\chenl\\anaconda3\\envs\\notebook\\Lib\\site-packages\\sklearn\\metrics\\_classification.py:1471: UndefinedMetricWarning: Precision is ill-defined and being set to 0.0 in labels with no predicted samples. Use `zero_division` parameter to control this behavior.\n",
      "  _warn_prf(average, modifier, msg_start, len(result))\n",
      "C:\\Users\\chenl\\anaconda3\\envs\\notebook\\Lib\\site-packages\\sklearn\\metrics\\_classification.py:1471: UndefinedMetricWarning: Precision is ill-defined and being set to 0.0 in labels with no predicted samples. Use `zero_division` parameter to control this behavior.\n",
      "  _warn_prf(average, modifier, msg_start, len(result))\n",
      "C:\\Users\\chenl\\anaconda3\\envs\\notebook\\Lib\\site-packages\\sklearn\\metrics\\_classification.py:1471: UndefinedMetricWarning: Precision is ill-defined and being set to 0.0 in labels with no predicted samples. Use `zero_division` parameter to control this behavior.\n",
      "  _warn_prf(average, modifier, msg_start, len(result))\n",
      "C:\\Users\\chenl\\anaconda3\\envs\\notebook\\Lib\\site-packages\\sklearn\\metrics\\_classification.py:1471: UndefinedMetricWarning: Precision is ill-defined and being set to 0.0 in labels with no predicted samples. Use `zero_division` parameter to control this behavior.\n",
      "  _warn_prf(average, modifier, msg_start, len(result))\n",
      "C:\\Users\\chenl\\anaconda3\\envs\\notebook\\Lib\\site-packages\\sklearn\\metrics\\_classification.py:1471: UndefinedMetricWarning: Precision is ill-defined and being set to 0.0 in labels with no predicted samples. Use `zero_division` parameter to control this behavior.\n",
      "  _warn_prf(average, modifier, msg_start, len(result))\n",
      "C:\\Users\\chenl\\anaconda3\\envs\\notebook\\Lib\\site-packages\\sklearn\\metrics\\_classification.py:1471: UndefinedMetricWarning: Precision is ill-defined and being set to 0.0 in labels with no predicted samples. Use `zero_division` parameter to control this behavior.\n",
      "  _warn_prf(average, modifier, msg_start, len(result))\n",
      "C:\\Users\\chenl\\anaconda3\\envs\\notebook\\Lib\\site-packages\\sklearn\\metrics\\_classification.py:1471: UndefinedMetricWarning: Precision is ill-defined and being set to 0.0 in labels with no predicted samples. Use `zero_division` parameter to control this behavior.\n",
      "  _warn_prf(average, modifier, msg_start, len(result))\n",
      "C:\\Users\\chenl\\anaconda3\\envs\\notebook\\Lib\\site-packages\\sklearn\\metrics\\_classification.py:1471: UndefinedMetricWarning: Precision is ill-defined and being set to 0.0 in labels with no predicted samples. Use `zero_division` parameter to control this behavior.\n",
      "  _warn_prf(average, modifier, msg_start, len(result))\n",
      "C:\\Users\\chenl\\anaconda3\\envs\\notebook\\Lib\\site-packages\\sklearn\\metrics\\_classification.py:1471: UndefinedMetricWarning: Precision is ill-defined and being set to 0.0 in labels with no predicted samples. Use `zero_division` parameter to control this behavior.\n",
      "  _warn_prf(average, modifier, msg_start, len(result))\n",
      "C:\\Users\\chenl\\anaconda3\\envs\\notebook\\Lib\\site-packages\\sklearn\\metrics\\_classification.py:1471: UndefinedMetricWarning: Precision is ill-defined and being set to 0.0 in labels with no predicted samples. Use `zero_division` parameter to control this behavior.\n",
      "  _warn_prf(average, modifier, msg_start, len(result))\n",
      "C:\\Users\\chenl\\anaconda3\\envs\\notebook\\Lib\\site-packages\\sklearn\\metrics\\_classification.py:1471: UndefinedMetricWarning: Precision is ill-defined and being set to 0.0 in labels with no predicted samples. Use `zero_division` parameter to control this behavior.\n",
      "  _warn_prf(average, modifier, msg_start, len(result))\n",
      "C:\\Users\\chenl\\anaconda3\\envs\\notebook\\Lib\\site-packages\\sklearn\\metrics\\_classification.py:1471: UndefinedMetricWarning: Precision is ill-defined and being set to 0.0 in labels with no predicted samples. Use `zero_division` parameter to control this behavior.\n",
      "  _warn_prf(average, modifier, msg_start, len(result))\n",
      "C:\\Users\\chenl\\anaconda3\\envs\\notebook\\Lib\\site-packages\\sklearn\\metrics\\_classification.py:1471: UndefinedMetricWarning: Precision is ill-defined and being set to 0.0 in labels with no predicted samples. Use `zero_division` parameter to control this behavior.\n",
      "  _warn_prf(average, modifier, msg_start, len(result))\n",
      "C:\\Users\\chenl\\anaconda3\\envs\\notebook\\Lib\\site-packages\\sklearn\\metrics\\_classification.py:1471: UndefinedMetricWarning: Precision is ill-defined and being set to 0.0 in labels with no predicted samples. Use `zero_division` parameter to control this behavior.\n",
      "  _warn_prf(average, modifier, msg_start, len(result))\n",
      "C:\\Users\\chenl\\anaconda3\\envs\\notebook\\Lib\\site-packages\\sklearn\\metrics\\_classification.py:1471: UndefinedMetricWarning: Precision is ill-defined and being set to 0.0 in labels with no predicted samples. Use `zero_division` parameter to control this behavior.\n",
      "  _warn_prf(average, modifier, msg_start, len(result))\n",
      "C:\\Users\\chenl\\anaconda3\\envs\\notebook\\Lib\\site-packages\\sklearn\\metrics\\_classification.py:1471: UndefinedMetricWarning: Precision is ill-defined and being set to 0.0 in labels with no predicted samples. Use `zero_division` parameter to control this behavior.\n",
      "  _warn_prf(average, modifier, msg_start, len(result))\n",
      "C:\\Users\\chenl\\anaconda3\\envs\\notebook\\Lib\\site-packages\\sklearn\\metrics\\_classification.py:1471: UndefinedMetricWarning: Precision is ill-defined and being set to 0.0 in labels with no predicted samples. Use `zero_division` parameter to control this behavior.\n",
      "  _warn_prf(average, modifier, msg_start, len(result))\n",
      "C:\\Users\\chenl\\anaconda3\\envs\\notebook\\Lib\\site-packages\\sklearn\\metrics\\_classification.py:1471: UndefinedMetricWarning: Precision is ill-defined and being set to 0.0 in labels with no predicted samples. Use `zero_division` parameter to control this behavior.\n",
      "  _warn_prf(average, modifier, msg_start, len(result))\n",
      "C:\\Users\\chenl\\anaconda3\\envs\\notebook\\Lib\\site-packages\\sklearn\\metrics\\_classification.py:1471: UndefinedMetricWarning: Precision is ill-defined and being set to 0.0 in labels with no predicted samples. Use `zero_division` parameter to control this behavior.\n",
      "  _warn_prf(average, modifier, msg_start, len(result))\n",
      "C:\\Users\\chenl\\anaconda3\\envs\\notebook\\Lib\\site-packages\\sklearn\\metrics\\_classification.py:1471: UndefinedMetricWarning: Precision is ill-defined and being set to 0.0 in labels with no predicted samples. Use `zero_division` parameter to control this behavior.\n",
      "  _warn_prf(average, modifier, msg_start, len(result))\n",
      "C:\\Users\\chenl\\anaconda3\\envs\\notebook\\Lib\\site-packages\\sklearn\\metrics\\_classification.py:1471: UndefinedMetricWarning: Precision is ill-defined and being set to 0.0 in labels with no predicted samples. Use `zero_division` parameter to control this behavior.\n",
      "  _warn_prf(average, modifier, msg_start, len(result))\n",
      "C:\\Users\\chenl\\anaconda3\\envs\\notebook\\Lib\\site-packages\\sklearn\\metrics\\_classification.py:1471: UndefinedMetricWarning: Precision is ill-defined and being set to 0.0 in labels with no predicted samples. Use `zero_division` parameter to control this behavior.\n",
      "  _warn_prf(average, modifier, msg_start, len(result))\n",
      "C:\\Users\\chenl\\anaconda3\\envs\\notebook\\Lib\\site-packages\\sklearn\\metrics\\_classification.py:1471: UndefinedMetricWarning: Precision is ill-defined and being set to 0.0 in labels with no predicted samples. Use `zero_division` parameter to control this behavior.\n",
      "  _warn_prf(average, modifier, msg_start, len(result))\n",
      "C:\\Users\\chenl\\anaconda3\\envs\\notebook\\Lib\\site-packages\\sklearn\\metrics\\_classification.py:1471: UndefinedMetricWarning: Precision is ill-defined and being set to 0.0 in labels with no predicted samples. Use `zero_division` parameter to control this behavior.\n",
      "  _warn_prf(average, modifier, msg_start, len(result))\n",
      "C:\\Users\\chenl\\anaconda3\\envs\\notebook\\Lib\\site-packages\\sklearn\\metrics\\_classification.py:1471: UndefinedMetricWarning: Precision is ill-defined and being set to 0.0 in labels with no predicted samples. Use `zero_division` parameter to control this behavior.\n",
      "  _warn_prf(average, modifier, msg_start, len(result))\n",
      "C:\\Users\\chenl\\anaconda3\\envs\\notebook\\Lib\\site-packages\\sklearn\\metrics\\_classification.py:1471: UndefinedMetricWarning: Precision is ill-defined and being set to 0.0 in labels with no predicted samples. Use `zero_division` parameter to control this behavior.\n",
      "  _warn_prf(average, modifier, msg_start, len(result))\n",
      "C:\\Users\\chenl\\anaconda3\\envs\\notebook\\Lib\\site-packages\\sklearn\\metrics\\_classification.py:1471: UndefinedMetricWarning: Precision is ill-defined and being set to 0.0 in labels with no predicted samples. Use `zero_division` parameter to control this behavior.\n",
      "  _warn_prf(average, modifier, msg_start, len(result))\n",
      "C:\\Users\\chenl\\anaconda3\\envs\\notebook\\Lib\\site-packages\\sklearn\\metrics\\_classification.py:1471: UndefinedMetricWarning: Precision is ill-defined and being set to 0.0 in labels with no predicted samples. Use `zero_division` parameter to control this behavior.\n",
      "  _warn_prf(average, modifier, msg_start, len(result))\n",
      "C:\\Users\\chenl\\anaconda3\\envs\\notebook\\Lib\\site-packages\\sklearn\\metrics\\_classification.py:1471: UndefinedMetricWarning: Precision is ill-defined and being set to 0.0 in labels with no predicted samples. Use `zero_division` parameter to control this behavior.\n",
      "  _warn_prf(average, modifier, msg_start, len(result))\n",
      "C:\\Users\\chenl\\anaconda3\\envs\\notebook\\Lib\\site-packages\\sklearn\\metrics\\_classification.py:1471: UndefinedMetricWarning: Precision is ill-defined and being set to 0.0 in labels with no predicted samples. Use `zero_division` parameter to control this behavior.\n",
      "  _warn_prf(average, modifier, msg_start, len(result))\n",
      "C:\\Users\\chenl\\anaconda3\\envs\\notebook\\Lib\\site-packages\\sklearn\\metrics\\_classification.py:1471: UndefinedMetricWarning: Precision is ill-defined and being set to 0.0 in labels with no predicted samples. Use `zero_division` parameter to control this behavior.\n",
      "  _warn_prf(average, modifier, msg_start, len(result))\n",
      "C:\\Users\\chenl\\anaconda3\\envs\\notebook\\Lib\\site-packages\\sklearn\\metrics\\_classification.py:1471: UndefinedMetricWarning: Precision is ill-defined and being set to 0.0 in labels with no predicted samples. Use `zero_division` parameter to control this behavior.\n",
      "  _warn_prf(average, modifier, msg_start, len(result))\n",
      "C:\\Users\\chenl\\anaconda3\\envs\\notebook\\Lib\\site-packages\\sklearn\\metrics\\_classification.py:1471: UndefinedMetricWarning: Precision is ill-defined and being set to 0.0 in labels with no predicted samples. Use `zero_division` parameter to control this behavior.\n",
      "  _warn_prf(average, modifier, msg_start, len(result))\n",
      "C:\\Users\\chenl\\anaconda3\\envs\\notebook\\Lib\\site-packages\\sklearn\\metrics\\_classification.py:1471: UndefinedMetricWarning: Precision is ill-defined and being set to 0.0 in labels with no predicted samples. Use `zero_division` parameter to control this behavior.\n",
      "  _warn_prf(average, modifier, msg_start, len(result))\n",
      "C:\\Users\\chenl\\anaconda3\\envs\\notebook\\Lib\\site-packages\\sklearn\\metrics\\_classification.py:1471: UndefinedMetricWarning: Precision is ill-defined and being set to 0.0 in labels with no predicted samples. Use `zero_division` parameter to control this behavior.\n",
      "  _warn_prf(average, modifier, msg_start, len(result))\n",
      "C:\\Users\\chenl\\anaconda3\\envs\\notebook\\Lib\\site-packages\\sklearn\\metrics\\_classification.py:1471: UndefinedMetricWarning: Precision is ill-defined and being set to 0.0 in labels with no predicted samples. Use `zero_division` parameter to control this behavior.\n",
      "  _warn_prf(average, modifier, msg_start, len(result))\n",
      "C:\\Users\\chenl\\anaconda3\\envs\\notebook\\Lib\\site-packages\\sklearn\\metrics\\_classification.py:1471: UndefinedMetricWarning: Precision is ill-defined and being set to 0.0 in labels with no predicted samples. Use `zero_division` parameter to control this behavior.\n",
      "  _warn_prf(average, modifier, msg_start, len(result))\n",
      "C:\\Users\\chenl\\anaconda3\\envs\\notebook\\Lib\\site-packages\\sklearn\\metrics\\_classification.py:1471: UndefinedMetricWarning: Precision is ill-defined and being set to 0.0 in labels with no predicted samples. Use `zero_division` parameter to control this behavior.\n",
      "  _warn_prf(average, modifier, msg_start, len(result))\n",
      "C:\\Users\\chenl\\anaconda3\\envs\\notebook\\Lib\\site-packages\\sklearn\\metrics\\_classification.py:1471: UndefinedMetricWarning: Precision is ill-defined and being set to 0.0 in labels with no predicted samples. Use `zero_division` parameter to control this behavior.\n",
      "  _warn_prf(average, modifier, msg_start, len(result))\n",
      "C:\\Users\\chenl\\anaconda3\\envs\\notebook\\Lib\\site-packages\\sklearn\\metrics\\_classification.py:1471: UndefinedMetricWarning: Precision is ill-defined and being set to 0.0 in labels with no predicted samples. Use `zero_division` parameter to control this behavior.\n",
      "  _warn_prf(average, modifier, msg_start, len(result))\n",
      "C:\\Users\\chenl\\anaconda3\\envs\\notebook\\Lib\\site-packages\\sklearn\\metrics\\_classification.py:1471: UndefinedMetricWarning: Precision is ill-defined and being set to 0.0 in labels with no predicted samples. Use `zero_division` parameter to control this behavior.\n",
      "  _warn_prf(average, modifier, msg_start, len(result))\n",
      "C:\\Users\\chenl\\anaconda3\\envs\\notebook\\Lib\\site-packages\\sklearn\\metrics\\_classification.py:1471: UndefinedMetricWarning: Precision is ill-defined and being set to 0.0 in labels with no predicted samples. Use `zero_division` parameter to control this behavior.\n",
      "  _warn_prf(average, modifier, msg_start, len(result))\n",
      "C:\\Users\\chenl\\anaconda3\\envs\\notebook\\Lib\\site-packages\\sklearn\\metrics\\_classification.py:1471: UndefinedMetricWarning: Precision is ill-defined and being set to 0.0 in labels with no predicted samples. Use `zero_division` parameter to control this behavior.\n",
      "  _warn_prf(average, modifier, msg_start, len(result))\n",
      "C:\\Users\\chenl\\anaconda3\\envs\\notebook\\Lib\\site-packages\\sklearn\\metrics\\_classification.py:1471: UndefinedMetricWarning: Precision is ill-defined and being set to 0.0 in labels with no predicted samples. Use `zero_division` parameter to control this behavior.\n",
      "  _warn_prf(average, modifier, msg_start, len(result))\n",
      "C:\\Users\\chenl\\anaconda3\\envs\\notebook\\Lib\\site-packages\\sklearn\\metrics\\_classification.py:1471: UndefinedMetricWarning: Precision is ill-defined and being set to 0.0 in labels with no predicted samples. Use `zero_division` parameter to control this behavior.\n",
      "  _warn_prf(average, modifier, msg_start, len(result))\n",
      "C:\\Users\\chenl\\anaconda3\\envs\\notebook\\Lib\\site-packages\\sklearn\\metrics\\_classification.py:1471: UndefinedMetricWarning: Precision is ill-defined and being set to 0.0 in labels with no predicted samples. Use `zero_division` parameter to control this behavior.\n",
      "  _warn_prf(average, modifier, msg_start, len(result))\n",
      "C:\\Users\\chenl\\anaconda3\\envs\\notebook\\Lib\\site-packages\\sklearn\\metrics\\_classification.py:1471: UndefinedMetricWarning: Precision is ill-defined and being set to 0.0 in labels with no predicted samples. Use `zero_division` parameter to control this behavior.\n",
      "  _warn_prf(average, modifier, msg_start, len(result))\n",
      "C:\\Users\\chenl\\anaconda3\\envs\\notebook\\Lib\\site-packages\\sklearn\\metrics\\_classification.py:1471: UndefinedMetricWarning: Precision is ill-defined and being set to 0.0 in labels with no predicted samples. Use `zero_division` parameter to control this behavior.\n",
      "  _warn_prf(average, modifier, msg_start, len(result))\n",
      "C:\\Users\\chenl\\anaconda3\\envs\\notebook\\Lib\\site-packages\\sklearn\\metrics\\_classification.py:1471: UndefinedMetricWarning: Precision is ill-defined and being set to 0.0 in labels with no predicted samples. Use `zero_division` parameter to control this behavior.\n",
      "  _warn_prf(average, modifier, msg_start, len(result))\n",
      "C:\\Users\\chenl\\anaconda3\\envs\\notebook\\Lib\\site-packages\\sklearn\\metrics\\_classification.py:1471: UndefinedMetricWarning: Precision is ill-defined and being set to 0.0 in labels with no predicted samples. Use `zero_division` parameter to control this behavior.\n",
      "  _warn_prf(average, modifier, msg_start, len(result))\n",
      "C:\\Users\\chenl\\anaconda3\\envs\\notebook\\Lib\\site-packages\\sklearn\\metrics\\_classification.py:1471: UndefinedMetricWarning: Precision is ill-defined and being set to 0.0 in labels with no predicted samples. Use `zero_division` parameter to control this behavior.\n",
      "  _warn_prf(average, modifier, msg_start, len(result))\n",
      "C:\\Users\\chenl\\anaconda3\\envs\\notebook\\Lib\\site-packages\\sklearn\\metrics\\_classification.py:1471: UndefinedMetricWarning: Precision is ill-defined and being set to 0.0 in labels with no predicted samples. Use `zero_division` parameter to control this behavior.\n",
      "  _warn_prf(average, modifier, msg_start, len(result))\n",
      "C:\\Users\\chenl\\anaconda3\\envs\\notebook\\Lib\\site-packages\\sklearn\\metrics\\_classification.py:1471: UndefinedMetricWarning: Precision is ill-defined and being set to 0.0 in labels with no predicted samples. Use `zero_division` parameter to control this behavior.\n",
      "  _warn_prf(average, modifier, msg_start, len(result))\n",
      "C:\\Users\\chenl\\anaconda3\\envs\\notebook\\Lib\\site-packages\\sklearn\\metrics\\_classification.py:1471: UndefinedMetricWarning: Precision is ill-defined and being set to 0.0 in labels with no predicted samples. Use `zero_division` parameter to control this behavior.\n",
      "  _warn_prf(average, modifier, msg_start, len(result))\n",
      "C:\\Users\\chenl\\anaconda3\\envs\\notebook\\Lib\\site-packages\\sklearn\\metrics\\_classification.py:1471: UndefinedMetricWarning: Precision is ill-defined and being set to 0.0 in labels with no predicted samples. Use `zero_division` parameter to control this behavior.\n",
      "  _warn_prf(average, modifier, msg_start, len(result))\n",
      "C:\\Users\\chenl\\anaconda3\\envs\\notebook\\Lib\\site-packages\\sklearn\\metrics\\_classification.py:1471: UndefinedMetricWarning: Precision is ill-defined and being set to 0.0 in labels with no predicted samples. Use `zero_division` parameter to control this behavior.\n",
      "  _warn_prf(average, modifier, msg_start, len(result))\n",
      "C:\\Users\\chenl\\anaconda3\\envs\\notebook\\Lib\\site-packages\\sklearn\\metrics\\_classification.py:1471: UndefinedMetricWarning: Precision is ill-defined and being set to 0.0 in labels with no predicted samples. Use `zero_division` parameter to control this behavior.\n",
      "  _warn_prf(average, modifier, msg_start, len(result))\n",
      "C:\\Users\\chenl\\anaconda3\\envs\\notebook\\Lib\\site-packages\\sklearn\\metrics\\_classification.py:1471: UndefinedMetricWarning: Precision is ill-defined and being set to 0.0 in labels with no predicted samples. Use `zero_division` parameter to control this behavior.\n",
      "  _warn_prf(average, modifier, msg_start, len(result))\n",
      "C:\\Users\\chenl\\anaconda3\\envs\\notebook\\Lib\\site-packages\\sklearn\\metrics\\_classification.py:1471: UndefinedMetricWarning: Precision is ill-defined and being set to 0.0 in labels with no predicted samples. Use `zero_division` parameter to control this behavior.\n",
      "  _warn_prf(average, modifier, msg_start, len(result))\n",
      "C:\\Users\\chenl\\anaconda3\\envs\\notebook\\Lib\\site-packages\\sklearn\\metrics\\_classification.py:1471: UndefinedMetricWarning: Precision is ill-defined and being set to 0.0 in labels with no predicted samples. Use `zero_division` parameter to control this behavior.\n",
      "  _warn_prf(average, modifier, msg_start, len(result))\n",
      "C:\\Users\\chenl\\anaconda3\\envs\\notebook\\Lib\\site-packages\\sklearn\\metrics\\_classification.py:1471: UndefinedMetricWarning: Precision is ill-defined and being set to 0.0 in labels with no predicted samples. Use `zero_division` parameter to control this behavior.\n",
      "  _warn_prf(average, modifier, msg_start, len(result))\n",
      "C:\\Users\\chenl\\anaconda3\\envs\\notebook\\Lib\\site-packages\\sklearn\\metrics\\_classification.py:1471: UndefinedMetricWarning: Precision is ill-defined and being set to 0.0 in labels with no predicted samples. Use `zero_division` parameter to control this behavior.\n",
      "  _warn_prf(average, modifier, msg_start, len(result))\n",
      "C:\\Users\\chenl\\anaconda3\\envs\\notebook\\Lib\\site-packages\\sklearn\\metrics\\_classification.py:1471: UndefinedMetricWarning: Precision is ill-defined and being set to 0.0 in labels with no predicted samples. Use `zero_division` parameter to control this behavior.\n",
      "  _warn_prf(average, modifier, msg_start, len(result))\n",
      "C:\\Users\\chenl\\anaconda3\\envs\\notebook\\Lib\\site-packages\\sklearn\\metrics\\_classification.py:1471: UndefinedMetricWarning: Precision is ill-defined and being set to 0.0 in labels with no predicted samples. Use `zero_division` parameter to control this behavior.\n",
      "  _warn_prf(average, modifier, msg_start, len(result))\n",
      "C:\\Users\\chenl\\anaconda3\\envs\\notebook\\Lib\\site-packages\\sklearn\\metrics\\_classification.py:1471: UndefinedMetricWarning: Precision is ill-defined and being set to 0.0 in labels with no predicted samples. Use `zero_division` parameter to control this behavior.\n",
      "  _warn_prf(average, modifier, msg_start, len(result))\n",
      "C:\\Users\\chenl\\anaconda3\\envs\\notebook\\Lib\\site-packages\\sklearn\\metrics\\_classification.py:1471: UndefinedMetricWarning: Precision is ill-defined and being set to 0.0 in labels with no predicted samples. Use `zero_division` parameter to control this behavior.\n",
      "  _warn_prf(average, modifier, msg_start, len(result))\n",
      "C:\\Users\\chenl\\anaconda3\\envs\\notebook\\Lib\\site-packages\\sklearn\\metrics\\_classification.py:1471: UndefinedMetricWarning: Precision is ill-defined and being set to 0.0 in labels with no predicted samples. Use `zero_division` parameter to control this behavior.\n",
      "  _warn_prf(average, modifier, msg_start, len(result))\n",
      "C:\\Users\\chenl\\anaconda3\\envs\\notebook\\Lib\\site-packages\\sklearn\\metrics\\_classification.py:1471: UndefinedMetricWarning: Precision is ill-defined and being set to 0.0 in labels with no predicted samples. Use `zero_division` parameter to control this behavior.\n",
      "  _warn_prf(average, modifier, msg_start, len(result))\n",
      "C:\\Users\\chenl\\anaconda3\\envs\\notebook\\Lib\\site-packages\\sklearn\\metrics\\_classification.py:1471: UndefinedMetricWarning: Precision is ill-defined and being set to 0.0 in labels with no predicted samples. Use `zero_division` parameter to control this behavior.\n",
      "  _warn_prf(average, modifier, msg_start, len(result))\n",
      "C:\\Users\\chenl\\anaconda3\\envs\\notebook\\Lib\\site-packages\\sklearn\\metrics\\_classification.py:1471: UndefinedMetricWarning: Precision is ill-defined and being set to 0.0 in labels with no predicted samples. Use `zero_division` parameter to control this behavior.\n",
      "  _warn_prf(average, modifier, msg_start, len(result))\n",
      "C:\\Users\\chenl\\anaconda3\\envs\\notebook\\Lib\\site-packages\\sklearn\\metrics\\_classification.py:1471: UndefinedMetricWarning: Precision is ill-defined and being set to 0.0 in labels with no predicted samples. Use `zero_division` parameter to control this behavior.\n",
      "  _warn_prf(average, modifier, msg_start, len(result))\n",
      "C:\\Users\\chenl\\anaconda3\\envs\\notebook\\Lib\\site-packages\\sklearn\\metrics\\_classification.py:1471: UndefinedMetricWarning: Precision is ill-defined and being set to 0.0 in labels with no predicted samples. Use `zero_division` parameter to control this behavior.\n",
      "  _warn_prf(average, modifier, msg_start, len(result))\n",
      "C:\\Users\\chenl\\anaconda3\\envs\\notebook\\Lib\\site-packages\\sklearn\\metrics\\_classification.py:1471: UndefinedMetricWarning: Precision is ill-defined and being set to 0.0 in labels with no predicted samples. Use `zero_division` parameter to control this behavior.\n",
      "  _warn_prf(average, modifier, msg_start, len(result))\n",
      "C:\\Users\\chenl\\anaconda3\\envs\\notebook\\Lib\\site-packages\\sklearn\\metrics\\_classification.py:1471: UndefinedMetricWarning: Precision is ill-defined and being set to 0.0 in labels with no predicted samples. Use `zero_division` parameter to control this behavior.\n",
      "  _warn_prf(average, modifier, msg_start, len(result))\n",
      "C:\\Users\\chenl\\anaconda3\\envs\\notebook\\Lib\\site-packages\\sklearn\\metrics\\_classification.py:1471: UndefinedMetricWarning: Precision is ill-defined and being set to 0.0 in labels with no predicted samples. Use `zero_division` parameter to control this behavior.\n",
      "  _warn_prf(average, modifier, msg_start, len(result))\n",
      "C:\\Users\\chenl\\anaconda3\\envs\\notebook\\Lib\\site-packages\\sklearn\\metrics\\_classification.py:1471: UndefinedMetricWarning: Precision is ill-defined and being set to 0.0 in labels with no predicted samples. Use `zero_division` parameter to control this behavior.\n",
      "  _warn_prf(average, modifier, msg_start, len(result))\n",
      "C:\\Users\\chenl\\anaconda3\\envs\\notebook\\Lib\\site-packages\\sklearn\\metrics\\_classification.py:1471: UndefinedMetricWarning: Precision is ill-defined and being set to 0.0 in labels with no predicted samples. Use `zero_division` parameter to control this behavior.\n",
      "  _warn_prf(average, modifier, msg_start, len(result))\n",
      "C:\\Users\\chenl\\anaconda3\\envs\\notebook\\Lib\\site-packages\\sklearn\\metrics\\_classification.py:1471: UndefinedMetricWarning: Precision is ill-defined and being set to 0.0 in labels with no predicted samples. Use `zero_division` parameter to control this behavior.\n",
      "  _warn_prf(average, modifier, msg_start, len(result))\n",
      "C:\\Users\\chenl\\anaconda3\\envs\\notebook\\Lib\\site-packages\\sklearn\\metrics\\_classification.py:1471: UndefinedMetricWarning: Precision is ill-defined and being set to 0.0 in labels with no predicted samples. Use `zero_division` parameter to control this behavior.\n",
      "  _warn_prf(average, modifier, msg_start, len(result))\n",
      "C:\\Users\\chenl\\anaconda3\\envs\\notebook\\Lib\\site-packages\\sklearn\\metrics\\_classification.py:1471: UndefinedMetricWarning: Precision is ill-defined and being set to 0.0 in labels with no predicted samples. Use `zero_division` parameter to control this behavior.\n",
      "  _warn_prf(average, modifier, msg_start, len(result))\n",
      "C:\\Users\\chenl\\anaconda3\\envs\\notebook\\Lib\\site-packages\\sklearn\\metrics\\_classification.py:1471: UndefinedMetricWarning: Precision is ill-defined and being set to 0.0 in labels with no predicted samples. Use `zero_division` parameter to control this behavior.\n",
      "  _warn_prf(average, modifier, msg_start, len(result))\n",
      "C:\\Users\\chenl\\anaconda3\\envs\\notebook\\Lib\\site-packages\\sklearn\\metrics\\_classification.py:1471: UndefinedMetricWarning: Precision is ill-defined and being set to 0.0 in labels with no predicted samples. Use `zero_division` parameter to control this behavior.\n",
      "  _warn_prf(average, modifier, msg_start, len(result))\n",
      "C:\\Users\\chenl\\anaconda3\\envs\\notebook\\Lib\\site-packages\\sklearn\\metrics\\_classification.py:1471: UndefinedMetricWarning: Precision is ill-defined and being set to 0.0 in labels with no predicted samples. Use `zero_division` parameter to control this behavior.\n",
      "  _warn_prf(average, modifier, msg_start, len(result))\n",
      "C:\\Users\\chenl\\anaconda3\\envs\\notebook\\Lib\\site-packages\\sklearn\\metrics\\_classification.py:1471: UndefinedMetricWarning: Precision is ill-defined and being set to 0.0 in labels with no predicted samples. Use `zero_division` parameter to control this behavior.\n",
      "  _warn_prf(average, modifier, msg_start, len(result))\n",
      "C:\\Users\\chenl\\anaconda3\\envs\\notebook\\Lib\\site-packages\\sklearn\\metrics\\_classification.py:1471: UndefinedMetricWarning: Precision is ill-defined and being set to 0.0 in labels with no predicted samples. Use `zero_division` parameter to control this behavior.\n",
      "  _warn_prf(average, modifier, msg_start, len(result))\n",
      "C:\\Users\\chenl\\anaconda3\\envs\\notebook\\Lib\\site-packages\\sklearn\\metrics\\_classification.py:1471: UndefinedMetricWarning: Precision is ill-defined and being set to 0.0 in labels with no predicted samples. Use `zero_division` parameter to control this behavior.\n",
      "  _warn_prf(average, modifier, msg_start, len(result))\n",
      "C:\\Users\\chenl\\anaconda3\\envs\\notebook\\Lib\\site-packages\\sklearn\\metrics\\_classification.py:1471: UndefinedMetricWarning: Precision is ill-defined and being set to 0.0 in labels with no predicted samples. Use `zero_division` parameter to control this behavior.\n",
      "  _warn_prf(average, modifier, msg_start, len(result))\n",
      "C:\\Users\\chenl\\anaconda3\\envs\\notebook\\Lib\\site-packages\\sklearn\\metrics\\_classification.py:1471: UndefinedMetricWarning: Precision is ill-defined and being set to 0.0 in labels with no predicted samples. Use `zero_division` parameter to control this behavior.\n",
      "  _warn_prf(average, modifier, msg_start, len(result))\n",
      "C:\\Users\\chenl\\anaconda3\\envs\\notebook\\Lib\\site-packages\\sklearn\\metrics\\_classification.py:1471: UndefinedMetricWarning: Precision is ill-defined and being set to 0.0 in labels with no predicted samples. Use `zero_division` parameter to control this behavior.\n",
      "  _warn_prf(average, modifier, msg_start, len(result))\n",
      "C:\\Users\\chenl\\anaconda3\\envs\\notebook\\Lib\\site-packages\\sklearn\\metrics\\_classification.py:1471: UndefinedMetricWarning: Precision is ill-defined and being set to 0.0 in labels with no predicted samples. Use `zero_division` parameter to control this behavior.\n",
      "  _warn_prf(average, modifier, msg_start, len(result))\n",
      "C:\\Users\\chenl\\anaconda3\\envs\\notebook\\Lib\\site-packages\\sklearn\\metrics\\_classification.py:1471: UndefinedMetricWarning: Precision is ill-defined and being set to 0.0 in labels with no predicted samples. Use `zero_division` parameter to control this behavior.\n",
      "  _warn_prf(average, modifier, msg_start, len(result))\n",
      "C:\\Users\\chenl\\anaconda3\\envs\\notebook\\Lib\\site-packages\\sklearn\\metrics\\_classification.py:1471: UndefinedMetricWarning: Precision is ill-defined and being set to 0.0 in labels with no predicted samples. Use `zero_division` parameter to control this behavior.\n",
      "  _warn_prf(average, modifier, msg_start, len(result))\n",
      "C:\\Users\\chenl\\anaconda3\\envs\\notebook\\Lib\\site-packages\\sklearn\\metrics\\_classification.py:1471: UndefinedMetricWarning: Precision is ill-defined and being set to 0.0 in labels with no predicted samples. Use `zero_division` parameter to control this behavior.\n",
      "  _warn_prf(average, modifier, msg_start, len(result))\n",
      "C:\\Users\\chenl\\anaconda3\\envs\\notebook\\Lib\\site-packages\\sklearn\\metrics\\_classification.py:1471: UndefinedMetricWarning: Precision is ill-defined and being set to 0.0 in labels with no predicted samples. Use `zero_division` parameter to control this behavior.\n",
      "  _warn_prf(average, modifier, msg_start, len(result))\n",
      "C:\\Users\\chenl\\anaconda3\\envs\\notebook\\Lib\\site-packages\\sklearn\\metrics\\_classification.py:1471: UndefinedMetricWarning: Precision is ill-defined and being set to 0.0 in labels with no predicted samples. Use `zero_division` parameter to control this behavior.\n",
      "  _warn_prf(average, modifier, msg_start, len(result))\n",
      "C:\\Users\\chenl\\anaconda3\\envs\\notebook\\Lib\\site-packages\\sklearn\\metrics\\_classification.py:1471: UndefinedMetricWarning: Precision is ill-defined and being set to 0.0 in labels with no predicted samples. Use `zero_division` parameter to control this behavior.\n",
      "  _warn_prf(average, modifier, msg_start, len(result))\n",
      "C:\\Users\\chenl\\anaconda3\\envs\\notebook\\Lib\\site-packages\\sklearn\\metrics\\_classification.py:1471: UndefinedMetricWarning: Precision is ill-defined and being set to 0.0 in labels with no predicted samples. Use `zero_division` parameter to control this behavior.\n",
      "  _warn_prf(average, modifier, msg_start, len(result))\n",
      "C:\\Users\\chenl\\anaconda3\\envs\\notebook\\Lib\\site-packages\\sklearn\\metrics\\_classification.py:1471: UndefinedMetricWarning: Precision is ill-defined and being set to 0.0 in labels with no predicted samples. Use `zero_division` parameter to control this behavior.\n",
      "  _warn_prf(average, modifier, msg_start, len(result))\n",
      "C:\\Users\\chenl\\anaconda3\\envs\\notebook\\Lib\\site-packages\\sklearn\\metrics\\_classification.py:1471: UndefinedMetricWarning: Precision is ill-defined and being set to 0.0 in labels with no predicted samples. Use `zero_division` parameter to control this behavior.\n",
      "  _warn_prf(average, modifier, msg_start, len(result))\n",
      "C:\\Users\\chenl\\anaconda3\\envs\\notebook\\Lib\\site-packages\\sklearn\\metrics\\_classification.py:1471: UndefinedMetricWarning: Precision is ill-defined and being set to 0.0 in labels with no predicted samples. Use `zero_division` parameter to control this behavior.\n",
      "  _warn_prf(average, modifier, msg_start, len(result))\n",
      "C:\\Users\\chenl\\anaconda3\\envs\\notebook\\Lib\\site-packages\\sklearn\\metrics\\_classification.py:1471: UndefinedMetricWarning: Precision is ill-defined and being set to 0.0 in labels with no predicted samples. Use `zero_division` parameter to control this behavior.\n",
      "  _warn_prf(average, modifier, msg_start, len(result))\n",
      "C:\\Users\\chenl\\anaconda3\\envs\\notebook\\Lib\\site-packages\\sklearn\\metrics\\_classification.py:1471: UndefinedMetricWarning: Precision is ill-defined and being set to 0.0 in labels with no predicted samples. Use `zero_division` parameter to control this behavior.\n",
      "  _warn_prf(average, modifier, msg_start, len(result))\n",
      "C:\\Users\\chenl\\anaconda3\\envs\\notebook\\Lib\\site-packages\\sklearn\\metrics\\_classification.py:1471: UndefinedMetricWarning: Precision is ill-defined and being set to 0.0 in labels with no predicted samples. Use `zero_division` parameter to control this behavior.\n",
      "  _warn_prf(average, modifier, msg_start, len(result))\n",
      "C:\\Users\\chenl\\anaconda3\\envs\\notebook\\Lib\\site-packages\\sklearn\\metrics\\_classification.py:1471: UndefinedMetricWarning: Precision is ill-defined and being set to 0.0 in labels with no predicted samples. Use `zero_division` parameter to control this behavior.\n",
      "  _warn_prf(average, modifier, msg_start, len(result))\n",
      "C:\\Users\\chenl\\anaconda3\\envs\\notebook\\Lib\\site-packages\\sklearn\\metrics\\_classification.py:1471: UndefinedMetricWarning: Precision is ill-defined and being set to 0.0 in labels with no predicted samples. Use `zero_division` parameter to control this behavior.\n",
      "  _warn_prf(average, modifier, msg_start, len(result))\n",
      "C:\\Users\\chenl\\anaconda3\\envs\\notebook\\Lib\\site-packages\\sklearn\\metrics\\_classification.py:1471: UndefinedMetricWarning: Precision is ill-defined and being set to 0.0 in labels with no predicted samples. Use `zero_division` parameter to control this behavior.\n",
      "  _warn_prf(average, modifier, msg_start, len(result))\n",
      "C:\\Users\\chenl\\anaconda3\\envs\\notebook\\Lib\\site-packages\\sklearn\\metrics\\_classification.py:1471: UndefinedMetricWarning: Precision is ill-defined and being set to 0.0 in labels with no predicted samples. Use `zero_division` parameter to control this behavior.\n",
      "  _warn_prf(average, modifier, msg_start, len(result))\n",
      "C:\\Users\\chenl\\anaconda3\\envs\\notebook\\Lib\\site-packages\\sklearn\\metrics\\_classification.py:1471: UndefinedMetricWarning: Precision is ill-defined and being set to 0.0 in labels with no predicted samples. Use `zero_division` parameter to control this behavior.\n",
      "  _warn_prf(average, modifier, msg_start, len(result))\n",
      "C:\\Users\\chenl\\anaconda3\\envs\\notebook\\Lib\\site-packages\\sklearn\\metrics\\_classification.py:1471: UndefinedMetricWarning: Precision is ill-defined and being set to 0.0 in labels with no predicted samples. Use `zero_division` parameter to control this behavior.\n",
      "  _warn_prf(average, modifier, msg_start, len(result))\n",
      "C:\\Users\\chenl\\anaconda3\\envs\\notebook\\Lib\\site-packages\\sklearn\\metrics\\_classification.py:1471: UndefinedMetricWarning: Precision is ill-defined and being set to 0.0 in labels with no predicted samples. Use `zero_division` parameter to control this behavior.\n",
      "  _warn_prf(average, modifier, msg_start, len(result))\n",
      "C:\\Users\\chenl\\anaconda3\\envs\\notebook\\Lib\\site-packages\\sklearn\\metrics\\_classification.py:1471: UndefinedMetricWarning: Precision is ill-defined and being set to 0.0 in labels with no predicted samples. Use `zero_division` parameter to control this behavior.\n",
      "  _warn_prf(average, modifier, msg_start, len(result))\n",
      "C:\\Users\\chenl\\anaconda3\\envs\\notebook\\Lib\\site-packages\\sklearn\\metrics\\_classification.py:1471: UndefinedMetricWarning: Precision is ill-defined and being set to 0.0 in labels with no predicted samples. Use `zero_division` parameter to control this behavior.\n",
      "  _warn_prf(average, modifier, msg_start, len(result))\n",
      "C:\\Users\\chenl\\anaconda3\\envs\\notebook\\Lib\\site-packages\\sklearn\\metrics\\_classification.py:1471: UndefinedMetricWarning: Precision is ill-defined and being set to 0.0 in labels with no predicted samples. Use `zero_division` parameter to control this behavior.\n",
      "  _warn_prf(average, modifier, msg_start, len(result))\n",
      "C:\\Users\\chenl\\anaconda3\\envs\\notebook\\Lib\\site-packages\\sklearn\\metrics\\_classification.py:1471: UndefinedMetricWarning: Precision is ill-defined and being set to 0.0 in labels with no predicted samples. Use `zero_division` parameter to control this behavior.\n",
      "  _warn_prf(average, modifier, msg_start, len(result))\n",
      "C:\\Users\\chenl\\anaconda3\\envs\\notebook\\Lib\\site-packages\\sklearn\\metrics\\_classification.py:1471: UndefinedMetricWarning: Precision is ill-defined and being set to 0.0 in labels with no predicted samples. Use `zero_division` parameter to control this behavior.\n",
      "  _warn_prf(average, modifier, msg_start, len(result))\n",
      "C:\\Users\\chenl\\anaconda3\\envs\\notebook\\Lib\\site-packages\\sklearn\\metrics\\_classification.py:1471: UndefinedMetricWarning: Precision is ill-defined and being set to 0.0 in labels with no predicted samples. Use `zero_division` parameter to control this behavior.\n",
      "  _warn_prf(average, modifier, msg_start, len(result))\n",
      "C:\\Users\\chenl\\anaconda3\\envs\\notebook\\Lib\\site-packages\\sklearn\\metrics\\_classification.py:1471: UndefinedMetricWarning: Precision is ill-defined and being set to 0.0 in labels with no predicted samples. Use `zero_division` parameter to control this behavior.\n",
      "  _warn_prf(average, modifier, msg_start, len(result))\n",
      "C:\\Users\\chenl\\anaconda3\\envs\\notebook\\Lib\\site-packages\\sklearn\\metrics\\_classification.py:1471: UndefinedMetricWarning: Precision is ill-defined and being set to 0.0 in labels with no predicted samples. Use `zero_division` parameter to control this behavior.\n",
      "  _warn_prf(average, modifier, msg_start, len(result))\n",
      "C:\\Users\\chenl\\anaconda3\\envs\\notebook\\Lib\\site-packages\\sklearn\\metrics\\_classification.py:1471: UndefinedMetricWarning: Precision is ill-defined and being set to 0.0 in labels with no predicted samples. Use `zero_division` parameter to control this behavior.\n",
      "  _warn_prf(average, modifier, msg_start, len(result))\n",
      "C:\\Users\\chenl\\anaconda3\\envs\\notebook\\Lib\\site-packages\\sklearn\\metrics\\_classification.py:1471: UndefinedMetricWarning: Precision is ill-defined and being set to 0.0 in labels with no predicted samples. Use `zero_division` parameter to control this behavior.\n",
      "  _warn_prf(average, modifier, msg_start, len(result))\n",
      "C:\\Users\\chenl\\anaconda3\\envs\\notebook\\Lib\\site-packages\\sklearn\\metrics\\_classification.py:1471: UndefinedMetricWarning: Precision is ill-defined and being set to 0.0 in labels with no predicted samples. Use `zero_division` parameter to control this behavior.\n",
      "  _warn_prf(average, modifier, msg_start, len(result))\n",
      "C:\\Users\\chenl\\anaconda3\\envs\\notebook\\Lib\\site-packages\\sklearn\\metrics\\_classification.py:1471: UndefinedMetricWarning: Precision is ill-defined and being set to 0.0 in labels with no predicted samples. Use `zero_division` parameter to control this behavior.\n",
      "  _warn_prf(average, modifier, msg_start, len(result))\n",
      "C:\\Users\\chenl\\anaconda3\\envs\\notebook\\Lib\\site-packages\\sklearn\\metrics\\_classification.py:1471: UndefinedMetricWarning: Precision is ill-defined and being set to 0.0 in labels with no predicted samples. Use `zero_division` parameter to control this behavior.\n",
      "  _warn_prf(average, modifier, msg_start, len(result))\n",
      "C:\\Users\\chenl\\anaconda3\\envs\\notebook\\Lib\\site-packages\\sklearn\\metrics\\_classification.py:1471: UndefinedMetricWarning: Precision is ill-defined and being set to 0.0 in labels with no predicted samples. Use `zero_division` parameter to control this behavior.\n",
      "  _warn_prf(average, modifier, msg_start, len(result))\n",
      "C:\\Users\\chenl\\anaconda3\\envs\\notebook\\Lib\\site-packages\\sklearn\\metrics\\_classification.py:1471: UndefinedMetricWarning: Precision is ill-defined and being set to 0.0 in labels with no predicted samples. Use `zero_division` parameter to control this behavior.\n",
      "  _warn_prf(average, modifier, msg_start, len(result))\n",
      "C:\\Users\\chenl\\anaconda3\\envs\\notebook\\Lib\\site-packages\\sklearn\\metrics\\_classification.py:1471: UndefinedMetricWarning: Precision is ill-defined and being set to 0.0 in labels with no predicted samples. Use `zero_division` parameter to control this behavior.\n",
      "  _warn_prf(average, modifier, msg_start, len(result))\n",
      "C:\\Users\\chenl\\anaconda3\\envs\\notebook\\Lib\\site-packages\\sklearn\\metrics\\_classification.py:1471: UndefinedMetricWarning: Precision is ill-defined and being set to 0.0 in labels with no predicted samples. Use `zero_division` parameter to control this behavior.\n",
      "  _warn_prf(average, modifier, msg_start, len(result))\n",
      "C:\\Users\\chenl\\anaconda3\\envs\\notebook\\Lib\\site-packages\\sklearn\\metrics\\_classification.py:1471: UndefinedMetricWarning: Precision is ill-defined and being set to 0.0 in labels with no predicted samples. Use `zero_division` parameter to control this behavior.\n",
      "  _warn_prf(average, modifier, msg_start, len(result))\n",
      "C:\\Users\\chenl\\anaconda3\\envs\\notebook\\Lib\\site-packages\\sklearn\\metrics\\_classification.py:1471: UndefinedMetricWarning: Precision is ill-defined and being set to 0.0 in labels with no predicted samples. Use `zero_division` parameter to control this behavior.\n",
      "  _warn_prf(average, modifier, msg_start, len(result))\n",
      "C:\\Users\\chenl\\anaconda3\\envs\\notebook\\Lib\\site-packages\\sklearn\\metrics\\_classification.py:1471: UndefinedMetricWarning: Precision is ill-defined and being set to 0.0 in labels with no predicted samples. Use `zero_division` parameter to control this behavior.\n",
      "  _warn_prf(average, modifier, msg_start, len(result))\n",
      "C:\\Users\\chenl\\anaconda3\\envs\\notebook\\Lib\\site-packages\\sklearn\\metrics\\_classification.py:1471: UndefinedMetricWarning: Precision is ill-defined and being set to 0.0 in labels with no predicted samples. Use `zero_division` parameter to control this behavior.\n",
      "  _warn_prf(average, modifier, msg_start, len(result))\n",
      "C:\\Users\\chenl\\anaconda3\\envs\\notebook\\Lib\\site-packages\\sklearn\\metrics\\_classification.py:1471: UndefinedMetricWarning: Precision is ill-defined and being set to 0.0 in labels with no predicted samples. Use `zero_division` parameter to control this behavior.\n",
      "  _warn_prf(average, modifier, msg_start, len(result))\n",
      "C:\\Users\\chenl\\anaconda3\\envs\\notebook\\Lib\\site-packages\\sklearn\\metrics\\_classification.py:1471: UndefinedMetricWarning: Precision is ill-defined and being set to 0.0 in labels with no predicted samples. Use `zero_division` parameter to control this behavior.\n",
      "  _warn_prf(average, modifier, msg_start, len(result))\n",
      "C:\\Users\\chenl\\anaconda3\\envs\\notebook\\Lib\\site-packages\\sklearn\\metrics\\_classification.py:1471: UndefinedMetricWarning: Precision is ill-defined and being set to 0.0 in labels with no predicted samples. Use `zero_division` parameter to control this behavior.\n",
      "  _warn_prf(average, modifier, msg_start, len(result))\n",
      "C:\\Users\\chenl\\anaconda3\\envs\\notebook\\Lib\\site-packages\\sklearn\\metrics\\_classification.py:1471: UndefinedMetricWarning: Precision is ill-defined and being set to 0.0 in labels with no predicted samples. Use `zero_division` parameter to control this behavior.\n",
      "  _warn_prf(average, modifier, msg_start, len(result))\n",
      "C:\\Users\\chenl\\anaconda3\\envs\\notebook\\Lib\\site-packages\\sklearn\\metrics\\_classification.py:1471: UndefinedMetricWarning: Precision is ill-defined and being set to 0.0 in labels with no predicted samples. Use `zero_division` parameter to control this behavior.\n",
      "  _warn_prf(average, modifier, msg_start, len(result))\n",
      "C:\\Users\\chenl\\anaconda3\\envs\\notebook\\Lib\\site-packages\\sklearn\\metrics\\_classification.py:1471: UndefinedMetricWarning: Precision is ill-defined and being set to 0.0 in labels with no predicted samples. Use `zero_division` parameter to control this behavior.\n",
      "  _warn_prf(average, modifier, msg_start, len(result))\n",
      "C:\\Users\\chenl\\anaconda3\\envs\\notebook\\Lib\\site-packages\\sklearn\\metrics\\_classification.py:1471: UndefinedMetricWarning: Precision is ill-defined and being set to 0.0 in labels with no predicted samples. Use `zero_division` parameter to control this behavior.\n",
      "  _warn_prf(average, modifier, msg_start, len(result))\n",
      "C:\\Users\\chenl\\anaconda3\\envs\\notebook\\Lib\\site-packages\\sklearn\\metrics\\_classification.py:1471: UndefinedMetricWarning: Precision is ill-defined and being set to 0.0 in labels with no predicted samples. Use `zero_division` parameter to control this behavior.\n",
      "  _warn_prf(average, modifier, msg_start, len(result))\n",
      "C:\\Users\\chenl\\anaconda3\\envs\\notebook\\Lib\\site-packages\\sklearn\\metrics\\_classification.py:1471: UndefinedMetricWarning: Precision is ill-defined and being set to 0.0 in labels with no predicted samples. Use `zero_division` parameter to control this behavior.\n",
      "  _warn_prf(average, modifier, msg_start, len(result))\n",
      "C:\\Users\\chenl\\anaconda3\\envs\\notebook\\Lib\\site-packages\\sklearn\\metrics\\_classification.py:1471: UndefinedMetricWarning: Precision is ill-defined and being set to 0.0 in labels with no predicted samples. Use `zero_division` parameter to control this behavior.\n",
      "  _warn_prf(average, modifier, msg_start, len(result))\n",
      "C:\\Users\\chenl\\anaconda3\\envs\\notebook\\Lib\\site-packages\\sklearn\\metrics\\_classification.py:1471: UndefinedMetricWarning: Precision is ill-defined and being set to 0.0 in labels with no predicted samples. Use `zero_division` parameter to control this behavior.\n",
      "  _warn_prf(average, modifier, msg_start, len(result))\n",
      "C:\\Users\\chenl\\anaconda3\\envs\\notebook\\Lib\\site-packages\\sklearn\\metrics\\_classification.py:1471: UndefinedMetricWarning: Precision is ill-defined and being set to 0.0 in labels with no predicted samples. Use `zero_division` parameter to control this behavior.\n",
      "  _warn_prf(average, modifier, msg_start, len(result))\n",
      "C:\\Users\\chenl\\anaconda3\\envs\\notebook\\Lib\\site-packages\\sklearn\\metrics\\_classification.py:1471: UndefinedMetricWarning: Precision is ill-defined and being set to 0.0 in labels with no predicted samples. Use `zero_division` parameter to control this behavior.\n",
      "  _warn_prf(average, modifier, msg_start, len(result))\n"
     ]
    },
    {
     "name": "stdout",
     "output_type": "stream",
     "text": [
      "[LightGBM] [Warning] Found whitespace in feature_names, replace with underlines\n",
      "[LightGBM] [Info] Auto-choosing col-wise multi-threading, the overhead of testing was 0.002237 seconds.\n",
      "You can set `force_col_wise=true` to remove the overhead.\n",
      "[LightGBM] [Info] Total Bins 7424\n",
      "[LightGBM] [Info] Number of data points in the train set: 14152, number of used features: 41\n",
      "[LightGBM] [Info] Start training from score -0.769628\n",
      "[LightGBM] [Info] Start training from score -4.875480\n",
      "[LightGBM] [Info] Start training from score -0.636421\n"
     ]
    },
    {
     "name": "stderr",
     "output_type": "stream",
     "text": [
      "C:\\Users\\chenl\\anaconda3\\envs\\notebook\\Lib\\site-packages\\sklearn\\metrics\\_classification.py:1471: UndefinedMetricWarning: Precision is ill-defined and being set to 0.0 in labels with no predicted samples. Use `zero_division` parameter to control this behavior.\n",
      "  _warn_prf(average, modifier, msg_start, len(result))\n"
     ]
    },
    {
     "name": "stdout",
     "output_type": "stream",
     "text": [
      "[LightGBM] [Warning] Found whitespace in feature_names, replace with underlines\n",
      "[LightGBM] [Info] Auto-choosing col-wise multi-threading, the overhead of testing was 0.001717 seconds.\n",
      "You can set `force_col_wise=true` to remove the overhead.\n",
      "[LightGBM] [Info] Total Bins 7424\n",
      "[LightGBM] [Info] Number of data points in the train set: 14152, number of used features: 41\n",
      "[LightGBM] [Info] Start training from score -0.769628\n",
      "[LightGBM] [Info] Start training from score -4.875480\n",
      "[LightGBM] [Info] Start training from score -0.636421\n"
     ]
    },
    {
     "name": "stderr",
     "output_type": "stream",
     "text": [
      "C:\\Users\\chenl\\anaconda3\\envs\\notebook\\Lib\\site-packages\\sklearn\\metrics\\_classification.py:1471: UndefinedMetricWarning: Precision is ill-defined and being set to 0.0 in labels with no predicted samples. Use `zero_division` parameter to control this behavior.\n",
      "  _warn_prf(average, modifier, msg_start, len(result))\n"
     ]
    },
    {
     "name": "stdout",
     "output_type": "stream",
     "text": [
      "[LightGBM] [Warning] Found whitespace in feature_names, replace with underlines\n",
      "[LightGBM] [Info] Auto-choosing col-wise multi-threading, the overhead of testing was 0.002753 seconds.\n",
      "You can set `force_col_wise=true` to remove the overhead.\n",
      "[LightGBM] [Info] Total Bins 7424\n",
      "[LightGBM] [Info] Number of data points in the train set: 14152, number of used features: 41\n",
      "[LightGBM] [Info] Start training from score -0.769628\n",
      "[LightGBM] [Info] Start training from score -4.875480\n",
      "[LightGBM] [Info] Start training from score -0.636421\n"
     ]
    },
    {
     "name": "stderr",
     "output_type": "stream",
     "text": [
      "C:\\Users\\chenl\\anaconda3\\envs\\notebook\\Lib\\site-packages\\sklearn\\metrics\\_classification.py:1471: UndefinedMetricWarning: Precision is ill-defined and being set to 0.0 in labels with no predicted samples. Use `zero_division` parameter to control this behavior.\n",
      "  _warn_prf(average, modifier, msg_start, len(result))\n"
     ]
    },
    {
     "name": "stdout",
     "output_type": "stream",
     "text": [
      "[LightGBM] [Warning] Found whitespace in feature_names, replace with underlines\n",
      "[LightGBM] [Info] Auto-choosing col-wise multi-threading, the overhead of testing was 0.002207 seconds.\n",
      "You can set `force_col_wise=true` to remove the overhead.\n",
      "[LightGBM] [Info] Total Bins 7423\n",
      "[LightGBM] [Info] Number of data points in the train set: 14152, number of used features: 41\n",
      "[LightGBM] [Info] Start training from score -0.769628\n",
      "[LightGBM] [Info] Start training from score -4.875480\n",
      "[LightGBM] [Info] Start training from score -0.636421\n"
     ]
    },
    {
     "name": "stderr",
     "output_type": "stream",
     "text": [
      "C:\\Users\\chenl\\anaconda3\\envs\\notebook\\Lib\\site-packages\\sklearn\\metrics\\_classification.py:1471: UndefinedMetricWarning: Precision is ill-defined and being set to 0.0 in labels with no predicted samples. Use `zero_division` parameter to control this behavior.\n",
      "  _warn_prf(average, modifier, msg_start, len(result))\n"
     ]
    },
    {
     "name": "stdout",
     "output_type": "stream",
     "text": [
      "[LightGBM] [Warning] Found whitespace in feature_names, replace with underlines\n",
      "[LightGBM] [Info] Auto-choosing col-wise multi-threading, the overhead of testing was 0.002287 seconds.\n",
      "You can set `force_col_wise=true` to remove the overhead.\n",
      "[LightGBM] [Info] Total Bins 7424\n",
      "[LightGBM] [Info] Number of data points in the train set: 14152, number of used features: 41\n",
      "[LightGBM] [Info] Start training from score -0.769475\n",
      "[LightGBM] [Info] Start training from score -4.875480\n",
      "[LightGBM] [Info] Start training from score -0.636554\n"
     ]
    },
    {
     "name": "stderr",
     "output_type": "stream",
     "text": [
      "C:\\Users\\chenl\\anaconda3\\envs\\notebook\\Lib\\site-packages\\sklearn\\metrics\\_classification.py:1471: UndefinedMetricWarning: Precision is ill-defined and being set to 0.0 in labels with no predicted samples. Use `zero_division` parameter to control this behavior.\n",
      "  _warn_prf(average, modifier, msg_start, len(result))\n"
     ]
    },
    {
     "name": "stdout",
     "output_type": "stream",
     "text": [
      "[LightGBM] [Warning] Found whitespace in feature_names, replace with underlines\n",
      "[LightGBM] [Info] Auto-choosing col-wise multi-threading, the overhead of testing was 0.002023 seconds.\n",
      "You can set `force_col_wise=true` to remove the overhead.\n",
      "[LightGBM] [Info] Total Bins 7424\n",
      "[LightGBM] [Info] Number of data points in the train set: 14152, number of used features: 41\n",
      "[LightGBM] [Info] Start training from score -0.769628\n",
      "[LightGBM] [Info] Start training from score -4.875480\n",
      "[LightGBM] [Info] Start training from score -0.636421\n"
     ]
    },
    {
     "name": "stderr",
     "output_type": "stream",
     "text": [
      "C:\\Users\\chenl\\anaconda3\\envs\\notebook\\Lib\\site-packages\\sklearn\\metrics\\_classification.py:1471: UndefinedMetricWarning: Precision is ill-defined and being set to 0.0 in labels with no predicted samples. Use `zero_division` parameter to control this behavior.\n",
      "  _warn_prf(average, modifier, msg_start, len(result))\n"
     ]
    },
    {
     "name": "stdout",
     "output_type": "stream",
     "text": [
      "[LightGBM] [Warning] Found whitespace in feature_names, replace with underlines\n",
      "[LightGBM] [Info] Auto-choosing col-wise multi-threading, the overhead of testing was 0.001747 seconds.\n",
      "You can set `force_col_wise=true` to remove the overhead.\n",
      "[LightGBM] [Info] Total Bins 7424\n",
      "[LightGBM] [Info] Number of data points in the train set: 14152, number of used features: 41\n",
      "[LightGBM] [Info] Start training from score -0.769628\n",
      "[LightGBM] [Info] Start training from score -4.875480\n",
      "[LightGBM] [Info] Start training from score -0.636421\n"
     ]
    },
    {
     "name": "stderr",
     "output_type": "stream",
     "text": [
      "C:\\Users\\chenl\\anaconda3\\envs\\notebook\\Lib\\site-packages\\sklearn\\metrics\\_classification.py:1471: UndefinedMetricWarning: Precision is ill-defined and being set to 0.0 in labels with no predicted samples. Use `zero_division` parameter to control this behavior.\n",
      "  _warn_prf(average, modifier, msg_start, len(result))\n"
     ]
    },
    {
     "name": "stdout",
     "output_type": "stream",
     "text": [
      "[LightGBM] [Warning] Found whitespace in feature_names, replace with underlines\n",
      "[LightGBM] [Info] Auto-choosing col-wise multi-threading, the overhead of testing was 0.001840 seconds.\n",
      "You can set `force_col_wise=true` to remove the overhead.\n",
      "[LightGBM] [Info] Total Bins 7424\n",
      "[LightGBM] [Info] Number of data points in the train set: 14152, number of used features: 41\n",
      "[LightGBM] [Info] Start training from score -0.769628\n",
      "[LightGBM] [Info] Start training from score -4.875480\n",
      "[LightGBM] [Info] Start training from score -0.636421\n"
     ]
    },
    {
     "name": "stderr",
     "output_type": "stream",
     "text": [
      "C:\\Users\\chenl\\anaconda3\\envs\\notebook\\Lib\\site-packages\\sklearn\\metrics\\_classification.py:1471: UndefinedMetricWarning: Precision is ill-defined and being set to 0.0 in labels with no predicted samples. Use `zero_division` parameter to control this behavior.\n",
      "  _warn_prf(average, modifier, msg_start, len(result))\n"
     ]
    },
    {
     "name": "stdout",
     "output_type": "stream",
     "text": [
      "[LightGBM] [Warning] Found whitespace in feature_names, replace with underlines\n",
      "[LightGBM] [Info] Auto-choosing col-wise multi-threading, the overhead of testing was 0.001870 seconds.\n",
      "You can set `force_col_wise=true` to remove the overhead.\n",
      "[LightGBM] [Info] Total Bins 7423\n",
      "[LightGBM] [Info] Number of data points in the train set: 14152, number of used features: 41\n",
      "[LightGBM] [Info] Start training from score -0.769628\n",
      "[LightGBM] [Info] Start training from score -4.875480\n",
      "[LightGBM] [Info] Start training from score -0.636421\n"
     ]
    },
    {
     "name": "stderr",
     "output_type": "stream",
     "text": [
      "C:\\Users\\chenl\\anaconda3\\envs\\notebook\\Lib\\site-packages\\sklearn\\metrics\\_classification.py:1471: UndefinedMetricWarning: Precision is ill-defined and being set to 0.0 in labels with no predicted samples. Use `zero_division` parameter to control this behavior.\n",
      "  _warn_prf(average, modifier, msg_start, len(result))\n"
     ]
    },
    {
     "name": "stdout",
     "output_type": "stream",
     "text": [
      "[LightGBM] [Warning] Found whitespace in feature_names, replace with underlines\n",
      "[LightGBM] [Info] Auto-choosing col-wise multi-threading, the overhead of testing was 0.001883 seconds.\n",
      "You can set `force_col_wise=true` to remove the overhead.\n",
      "[LightGBM] [Info] Total Bins 7424\n",
      "[LightGBM] [Info] Number of data points in the train set: 14152, number of used features: 41\n",
      "[LightGBM] [Info] Start training from score -0.769475\n",
      "[LightGBM] [Info] Start training from score -4.875480\n",
      "[LightGBM] [Info] Start training from score -0.636554\n"
     ]
    },
    {
     "name": "stderr",
     "output_type": "stream",
     "text": [
      "C:\\Users\\chenl\\anaconda3\\envs\\notebook\\Lib\\site-packages\\sklearn\\metrics\\_classification.py:1471: UndefinedMetricWarning: Precision is ill-defined and being set to 0.0 in labels with no predicted samples. Use `zero_division` parameter to control this behavior.\n",
      "  _warn_prf(average, modifier, msg_start, len(result))\n"
     ]
    },
    {
     "name": "stdout",
     "output_type": "stream",
     "text": [
      "[LightGBM] [Warning] Found whitespace in feature_names, replace with underlines\n",
      "[LightGBM] [Info] Auto-choosing col-wise multi-threading, the overhead of testing was 0.001857 seconds.\n",
      "You can set `force_col_wise=true` to remove the overhead.\n",
      "[LightGBM] [Info] Total Bins 7424\n",
      "[LightGBM] [Info] Number of data points in the train set: 14152, number of used features: 41\n",
      "[LightGBM] [Info] Start training from score -0.769628\n",
      "[LightGBM] [Info] Start training from score -4.875480\n",
      "[LightGBM] [Info] Start training from score -0.636421\n"
     ]
    },
    {
     "name": "stderr",
     "output_type": "stream",
     "text": [
      "C:\\Users\\chenl\\anaconda3\\envs\\notebook\\Lib\\site-packages\\sklearn\\metrics\\_classification.py:1471: UndefinedMetricWarning: Precision is ill-defined and being set to 0.0 in labels with no predicted samples. Use `zero_division` parameter to control this behavior.\n",
      "  _warn_prf(average, modifier, msg_start, len(result))\n"
     ]
    },
    {
     "name": "stdout",
     "output_type": "stream",
     "text": [
      "[LightGBM] [Warning] Found whitespace in feature_names, replace with underlines\n",
      "[LightGBM] [Info] Auto-choosing col-wise multi-threading, the overhead of testing was 0.001865 seconds.\n",
      "You can set `force_col_wise=true` to remove the overhead.\n",
      "[LightGBM] [Info] Total Bins 7424\n",
      "[LightGBM] [Info] Number of data points in the train set: 14152, number of used features: 41\n",
      "[LightGBM] [Info] Start training from score -0.769628\n",
      "[LightGBM] [Info] Start training from score -4.875480\n",
      "[LightGBM] [Info] Start training from score -0.636421\n"
     ]
    },
    {
     "name": "stderr",
     "output_type": "stream",
     "text": [
      "C:\\Users\\chenl\\anaconda3\\envs\\notebook\\Lib\\site-packages\\sklearn\\metrics\\_classification.py:1471: UndefinedMetricWarning: Precision is ill-defined and being set to 0.0 in labels with no predicted samples. Use `zero_division` parameter to control this behavior.\n",
      "  _warn_prf(average, modifier, msg_start, len(result))\n"
     ]
    },
    {
     "name": "stdout",
     "output_type": "stream",
     "text": [
      "[LightGBM] [Warning] Found whitespace in feature_names, replace with underlines\n",
      "[LightGBM] [Info] Auto-choosing col-wise multi-threading, the overhead of testing was 0.002069 seconds.\n",
      "You can set `force_col_wise=true` to remove the overhead.\n",
      "[LightGBM] [Info] Total Bins 7424\n",
      "[LightGBM] [Info] Number of data points in the train set: 14152, number of used features: 41\n",
      "[LightGBM] [Info] Start training from score -0.769628\n",
      "[LightGBM] [Info] Start training from score -4.875480\n",
      "[LightGBM] [Info] Start training from score -0.636421\n"
     ]
    },
    {
     "name": "stderr",
     "output_type": "stream",
     "text": [
      "C:\\Users\\chenl\\anaconda3\\envs\\notebook\\Lib\\site-packages\\sklearn\\metrics\\_classification.py:1471: UndefinedMetricWarning: Precision is ill-defined and being set to 0.0 in labels with no predicted samples. Use `zero_division` parameter to control this behavior.\n",
      "  _warn_prf(average, modifier, msg_start, len(result))\n"
     ]
    },
    {
     "name": "stdout",
     "output_type": "stream",
     "text": [
      "[LightGBM] [Warning] Found whitespace in feature_names, replace with underlines\n",
      "[LightGBM] [Info] Auto-choosing col-wise multi-threading, the overhead of testing was 0.001989 seconds.\n",
      "You can set `force_col_wise=true` to remove the overhead.\n",
      "[LightGBM] [Info] Total Bins 7423\n",
      "[LightGBM] [Info] Number of data points in the train set: 14152, number of used features: 41\n",
      "[LightGBM] [Info] Start training from score -0.769628\n",
      "[LightGBM] [Info] Start training from score -4.875480\n",
      "[LightGBM] [Info] Start training from score -0.636421\n"
     ]
    },
    {
     "name": "stderr",
     "output_type": "stream",
     "text": [
      "C:\\Users\\chenl\\anaconda3\\envs\\notebook\\Lib\\site-packages\\sklearn\\metrics\\_classification.py:1471: UndefinedMetricWarning: Precision is ill-defined and being set to 0.0 in labels with no predicted samples. Use `zero_division` parameter to control this behavior.\n",
      "  _warn_prf(average, modifier, msg_start, len(result))\n"
     ]
    },
    {
     "name": "stdout",
     "output_type": "stream",
     "text": [
      "[LightGBM] [Warning] Found whitespace in feature_names, replace with underlines\n",
      "[LightGBM] [Info] Auto-choosing col-wise multi-threading, the overhead of testing was 0.001952 seconds.\n",
      "You can set `force_col_wise=true` to remove the overhead.\n",
      "[LightGBM] [Info] Total Bins 7424\n",
      "[LightGBM] [Info] Number of data points in the train set: 14152, number of used features: 41\n",
      "[LightGBM] [Info] Start training from score -0.769475\n",
      "[LightGBM] [Info] Start training from score -4.875480\n",
      "[LightGBM] [Info] Start training from score -0.636554\n"
     ]
    },
    {
     "name": "stderr",
     "output_type": "stream",
     "text": [
      "C:\\Users\\chenl\\anaconda3\\envs\\notebook\\Lib\\site-packages\\sklearn\\metrics\\_classification.py:1471: UndefinedMetricWarning: Precision is ill-defined and being set to 0.0 in labels with no predicted samples. Use `zero_division` parameter to control this behavior.\n",
      "  _warn_prf(average, modifier, msg_start, len(result))\n"
     ]
    },
    {
     "name": "stdout",
     "output_type": "stream",
     "text": [
      "[LightGBM] [Warning] Found whitespace in feature_names, replace with underlines\n",
      "[LightGBM] [Info] Auto-choosing col-wise multi-threading, the overhead of testing was 0.001859 seconds.\n",
      "You can set `force_col_wise=true` to remove the overhead.\n",
      "[LightGBM] [Info] Total Bins 7424\n",
      "[LightGBM] [Info] Number of data points in the train set: 14152, number of used features: 41\n",
      "[LightGBM] [Info] Start training from score -0.769628\n",
      "[LightGBM] [Info] Start training from score -4.875480\n",
      "[LightGBM] [Info] Start training from score -0.636421\n"
     ]
    },
    {
     "name": "stderr",
     "output_type": "stream",
     "text": [
      "C:\\Users\\chenl\\anaconda3\\envs\\notebook\\Lib\\site-packages\\sklearn\\metrics\\_classification.py:1471: UndefinedMetricWarning: Precision is ill-defined and being set to 0.0 in labels with no predicted samples. Use `zero_division` parameter to control this behavior.\n",
      "  _warn_prf(average, modifier, msg_start, len(result))\n"
     ]
    },
    {
     "name": "stdout",
     "output_type": "stream",
     "text": [
      "[LightGBM] [Warning] Found whitespace in feature_names, replace with underlines\n",
      "[LightGBM] [Info] Auto-choosing row-wise multi-threading, the overhead of testing was 0.001210 seconds.\n",
      "You can set `force_row_wise=true` to remove the overhead.\n",
      "And if memory is not enough, you can set `force_col_wise=true`.\n",
      "[LightGBM] [Info] Total Bins 7424\n",
      "[LightGBM] [Info] Number of data points in the train set: 14152, number of used features: 41\n",
      "[LightGBM] [Info] Start training from score -0.769628\n",
      "[LightGBM] [Info] Start training from score -4.875480\n",
      "[LightGBM] [Info] Start training from score -0.636421\n"
     ]
    },
    {
     "name": "stderr",
     "output_type": "stream",
     "text": [
      "C:\\Users\\chenl\\anaconda3\\envs\\notebook\\Lib\\site-packages\\sklearn\\metrics\\_classification.py:1471: UndefinedMetricWarning: Precision is ill-defined and being set to 0.0 in labels with no predicted samples. Use `zero_division` parameter to control this behavior.\n",
      "  _warn_prf(average, modifier, msg_start, len(result))\n"
     ]
    },
    {
     "name": "stdout",
     "output_type": "stream",
     "text": [
      "[LightGBM] [Warning] Found whitespace in feature_names, replace with underlines\n",
      "[LightGBM] [Info] Auto-choosing col-wise multi-threading, the overhead of testing was 0.001836 seconds.\n",
      "You can set `force_col_wise=true` to remove the overhead.\n",
      "[LightGBM] [Info] Total Bins 7424\n",
      "[LightGBM] [Info] Number of data points in the train set: 14152, number of used features: 41\n",
      "[LightGBM] [Info] Start training from score -0.769628\n",
      "[LightGBM] [Info] Start training from score -4.875480\n",
      "[LightGBM] [Info] Start training from score -0.636421\n"
     ]
    },
    {
     "name": "stderr",
     "output_type": "stream",
     "text": [
      "C:\\Users\\chenl\\anaconda3\\envs\\notebook\\Lib\\site-packages\\sklearn\\metrics\\_classification.py:1471: UndefinedMetricWarning: Precision is ill-defined and being set to 0.0 in labels with no predicted samples. Use `zero_division` parameter to control this behavior.\n",
      "  _warn_prf(average, modifier, msg_start, len(result))\n"
     ]
    },
    {
     "name": "stdout",
     "output_type": "stream",
     "text": [
      "[LightGBM] [Warning] Found whitespace in feature_names, replace with underlines\n",
      "[LightGBM] [Info] Auto-choosing col-wise multi-threading, the overhead of testing was 0.001882 seconds.\n",
      "You can set `force_col_wise=true` to remove the overhead.\n",
      "[LightGBM] [Info] Total Bins 7423\n",
      "[LightGBM] [Info] Number of data points in the train set: 14152, number of used features: 41\n",
      "[LightGBM] [Info] Start training from score -0.769628\n",
      "[LightGBM] [Info] Start training from score -4.875480\n",
      "[LightGBM] [Info] Start training from score -0.636421\n"
     ]
    },
    {
     "name": "stderr",
     "output_type": "stream",
     "text": [
      "C:\\Users\\chenl\\anaconda3\\envs\\notebook\\Lib\\site-packages\\sklearn\\metrics\\_classification.py:1471: UndefinedMetricWarning: Precision is ill-defined and being set to 0.0 in labels with no predicted samples. Use `zero_division` parameter to control this behavior.\n",
      "  _warn_prf(average, modifier, msg_start, len(result))\n"
     ]
    },
    {
     "name": "stdout",
     "output_type": "stream",
     "text": [
      "[LightGBM] [Warning] Found whitespace in feature_names, replace with underlines\n",
      "[LightGBM] [Info] Auto-choosing col-wise multi-threading, the overhead of testing was 0.001835 seconds.\n",
      "You can set `force_col_wise=true` to remove the overhead.\n",
      "[LightGBM] [Info] Total Bins 7424\n",
      "[LightGBM] [Info] Number of data points in the train set: 14152, number of used features: 41\n",
      "[LightGBM] [Info] Start training from score -0.769475\n",
      "[LightGBM] [Info] Start training from score -4.875480\n",
      "[LightGBM] [Info] Start training from score -0.636554\n"
     ]
    },
    {
     "name": "stderr",
     "output_type": "stream",
     "text": [
      "C:\\Users\\chenl\\anaconda3\\envs\\notebook\\Lib\\site-packages\\sklearn\\metrics\\_classification.py:1471: UndefinedMetricWarning: Precision is ill-defined and being set to 0.0 in labels with no predicted samples. Use `zero_division` parameter to control this behavior.\n",
      "  _warn_prf(average, modifier, msg_start, len(result))\n"
     ]
    },
    {
     "name": "stdout",
     "output_type": "stream",
     "text": [
      "[LightGBM] [Warning] Found whitespace in feature_names, replace with underlines\n",
      "[LightGBM] [Info] Auto-choosing col-wise multi-threading, the overhead of testing was 0.001918 seconds.\n",
      "You can set `force_col_wise=true` to remove the overhead.\n",
      "[LightGBM] [Info] Total Bins 7424\n",
      "[LightGBM] [Info] Number of data points in the train set: 14152, number of used features: 41\n",
      "[LightGBM] [Info] Start training from score -0.769628\n",
      "[LightGBM] [Info] Start training from score -4.875480\n",
      "[LightGBM] [Info] Start training from score -0.636421\n"
     ]
    },
    {
     "name": "stderr",
     "output_type": "stream",
     "text": [
      "C:\\Users\\chenl\\anaconda3\\envs\\notebook\\Lib\\site-packages\\sklearn\\metrics\\_classification.py:1471: UndefinedMetricWarning: Precision is ill-defined and being set to 0.0 in labels with no predicted samples. Use `zero_division` parameter to control this behavior.\n",
      "  _warn_prf(average, modifier, msg_start, len(result))\n"
     ]
    },
    {
     "name": "stdout",
     "output_type": "stream",
     "text": [
      "[LightGBM] [Warning] Found whitespace in feature_names, replace with underlines\n",
      "[LightGBM] [Info] Auto-choosing col-wise multi-threading, the overhead of testing was 0.001912 seconds.\n",
      "You can set `force_col_wise=true` to remove the overhead.\n",
      "[LightGBM] [Info] Total Bins 7424\n",
      "[LightGBM] [Info] Number of data points in the train set: 14152, number of used features: 41\n",
      "[LightGBM] [Info] Start training from score -0.769628\n",
      "[LightGBM] [Info] Start training from score -4.875480\n",
      "[LightGBM] [Info] Start training from score -0.636421\n"
     ]
    },
    {
     "name": "stderr",
     "output_type": "stream",
     "text": [
      "C:\\Users\\chenl\\anaconda3\\envs\\notebook\\Lib\\site-packages\\sklearn\\metrics\\_classification.py:1471: UndefinedMetricWarning: Precision is ill-defined and being set to 0.0 in labels with no predicted samples. Use `zero_division` parameter to control this behavior.\n",
      "  _warn_prf(average, modifier, msg_start, len(result))\n"
     ]
    },
    {
     "name": "stdout",
     "output_type": "stream",
     "text": [
      "[LightGBM] [Warning] Found whitespace in feature_names, replace with underlines\n",
      "[LightGBM] [Info] Auto-choosing col-wise multi-threading, the overhead of testing was 0.001979 seconds.\n",
      "You can set `force_col_wise=true` to remove the overhead.\n",
      "[LightGBM] [Info] Total Bins 7424\n",
      "[LightGBM] [Info] Number of data points in the train set: 14152, number of used features: 41\n",
      "[LightGBM] [Info] Start training from score -0.769628\n",
      "[LightGBM] [Info] Start training from score -4.875480\n",
      "[LightGBM] [Info] Start training from score -0.636421\n"
     ]
    },
    {
     "name": "stderr",
     "output_type": "stream",
     "text": [
      "C:\\Users\\chenl\\anaconda3\\envs\\notebook\\Lib\\site-packages\\sklearn\\metrics\\_classification.py:1471: UndefinedMetricWarning: Precision is ill-defined and being set to 0.0 in labels with no predicted samples. Use `zero_division` parameter to control this behavior.\n",
      "  _warn_prf(average, modifier, msg_start, len(result))\n"
     ]
    },
    {
     "name": "stdout",
     "output_type": "stream",
     "text": [
      "[LightGBM] [Warning] Found whitespace in feature_names, replace with underlines\n",
      "[LightGBM] [Info] Auto-choosing col-wise multi-threading, the overhead of testing was 0.001953 seconds.\n",
      "You can set `force_col_wise=true` to remove the overhead.\n",
      "[LightGBM] [Info] Total Bins 7423\n",
      "[LightGBM] [Info] Number of data points in the train set: 14152, number of used features: 41\n",
      "[LightGBM] [Info] Start training from score -0.769628\n",
      "[LightGBM] [Info] Start training from score -4.875480\n",
      "[LightGBM] [Info] Start training from score -0.636421\n"
     ]
    },
    {
     "name": "stderr",
     "output_type": "stream",
     "text": [
      "C:\\Users\\chenl\\anaconda3\\envs\\notebook\\Lib\\site-packages\\sklearn\\metrics\\_classification.py:1471: UndefinedMetricWarning: Precision is ill-defined and being set to 0.0 in labels with no predicted samples. Use `zero_division` parameter to control this behavior.\n",
      "  _warn_prf(average, modifier, msg_start, len(result))\n"
     ]
    },
    {
     "name": "stdout",
     "output_type": "stream",
     "text": [
      "[LightGBM] [Warning] Found whitespace in feature_names, replace with underlines\n",
      "[LightGBM] [Info] Auto-choosing col-wise multi-threading, the overhead of testing was 0.001976 seconds.\n",
      "You can set `force_col_wise=true` to remove the overhead.\n",
      "[LightGBM] [Info] Total Bins 7424\n",
      "[LightGBM] [Info] Number of data points in the train set: 14152, number of used features: 41\n",
      "[LightGBM] [Info] Start training from score -0.769475\n",
      "[LightGBM] [Info] Start training from score -4.875480\n",
      "[LightGBM] [Info] Start training from score -0.636554\n"
     ]
    },
    {
     "name": "stderr",
     "output_type": "stream",
     "text": [
      "C:\\Users\\chenl\\anaconda3\\envs\\notebook\\Lib\\site-packages\\sklearn\\metrics\\_classification.py:1471: UndefinedMetricWarning: Precision is ill-defined and being set to 0.0 in labels with no predicted samples. Use `zero_division` parameter to control this behavior.\n",
      "  _warn_prf(average, modifier, msg_start, len(result))\n"
     ]
    },
    {
     "name": "stdout",
     "output_type": "stream",
     "text": [
      "[LightGBM] [Warning] Found whitespace in feature_names, replace with underlines\n",
      "[LightGBM] [Info] Auto-choosing col-wise multi-threading, the overhead of testing was 0.000966 seconds.\n",
      "You can set `force_col_wise=true` to remove the overhead.\n",
      "[LightGBM] [Info] Total Bins 7424\n",
      "[LightGBM] [Info] Number of data points in the train set: 14152, number of used features: 41\n",
      "[LightGBM] [Info] Start training from score -0.769628\n",
      "[LightGBM] [Info] Start training from score -4.875480\n",
      "[LightGBM] [Info] Start training from score -0.636421\n"
     ]
    },
    {
     "name": "stderr",
     "output_type": "stream",
     "text": [
      "C:\\Users\\chenl\\anaconda3\\envs\\notebook\\Lib\\site-packages\\sklearn\\metrics\\_classification.py:1471: UndefinedMetricWarning: Precision is ill-defined and being set to 0.0 in labels with no predicted samples. Use `zero_division` parameter to control this behavior.\n",
      "  _warn_prf(average, modifier, msg_start, len(result))\n"
     ]
    },
    {
     "name": "stdout",
     "output_type": "stream",
     "text": [
      "[LightGBM] [Warning] Found whitespace in feature_names, replace with underlines\n",
      "[LightGBM] [Info] Auto-choosing col-wise multi-threading, the overhead of testing was 0.002026 seconds.\n",
      "You can set `force_col_wise=true` to remove the overhead.\n",
      "[LightGBM] [Info] Total Bins 7424\n",
      "[LightGBM] [Info] Number of data points in the train set: 14152, number of used features: 41\n",
      "[LightGBM] [Info] Start training from score -0.769628\n",
      "[LightGBM] [Info] Start training from score -4.875480\n",
      "[LightGBM] [Info] Start training from score -0.636421\n"
     ]
    },
    {
     "name": "stderr",
     "output_type": "stream",
     "text": [
      "C:\\Users\\chenl\\anaconda3\\envs\\notebook\\Lib\\site-packages\\sklearn\\metrics\\_classification.py:1471: UndefinedMetricWarning: Precision is ill-defined and being set to 0.0 in labels with no predicted samples. Use `zero_division` parameter to control this behavior.\n",
      "  _warn_prf(average, modifier, msg_start, len(result))\n"
     ]
    },
    {
     "name": "stdout",
     "output_type": "stream",
     "text": [
      "[LightGBM] [Warning] Found whitespace in feature_names, replace with underlines\n",
      "[LightGBM] [Info] Auto-choosing col-wise multi-threading, the overhead of testing was 0.001761 seconds.\n",
      "You can set `force_col_wise=true` to remove the overhead.\n",
      "[LightGBM] [Info] Total Bins 7424\n",
      "[LightGBM] [Info] Number of data points in the train set: 14152, number of used features: 41\n",
      "[LightGBM] [Info] Start training from score -0.769628\n",
      "[LightGBM] [Info] Start training from score -4.875480\n",
      "[LightGBM] [Info] Start training from score -0.636421\n"
     ]
    },
    {
     "name": "stderr",
     "output_type": "stream",
     "text": [
      "C:\\Users\\chenl\\anaconda3\\envs\\notebook\\Lib\\site-packages\\sklearn\\metrics\\_classification.py:1471: UndefinedMetricWarning: Precision is ill-defined and being set to 0.0 in labels with no predicted samples. Use `zero_division` parameter to control this behavior.\n",
      "  _warn_prf(average, modifier, msg_start, len(result))\n"
     ]
    },
    {
     "name": "stdout",
     "output_type": "stream",
     "text": [
      "[LightGBM] [Warning] Found whitespace in feature_names, replace with underlines\n",
      "[LightGBM] [Info] Auto-choosing col-wise multi-threading, the overhead of testing was 0.001765 seconds.\n",
      "You can set `force_col_wise=true` to remove the overhead.\n",
      "[LightGBM] [Info] Total Bins 7423\n",
      "[LightGBM] [Info] Number of data points in the train set: 14152, number of used features: 41\n",
      "[LightGBM] [Info] Start training from score -0.769628\n",
      "[LightGBM] [Info] Start training from score -4.875480\n",
      "[LightGBM] [Info] Start training from score -0.636421\n"
     ]
    },
    {
     "name": "stderr",
     "output_type": "stream",
     "text": [
      "C:\\Users\\chenl\\anaconda3\\envs\\notebook\\Lib\\site-packages\\sklearn\\metrics\\_classification.py:1471: UndefinedMetricWarning: Precision is ill-defined and being set to 0.0 in labels with no predicted samples. Use `zero_division` parameter to control this behavior.\n",
      "  _warn_prf(average, modifier, msg_start, len(result))\n"
     ]
    },
    {
     "name": "stdout",
     "output_type": "stream",
     "text": [
      "[LightGBM] [Warning] Found whitespace in feature_names, replace with underlines\n",
      "[LightGBM] [Info] Auto-choosing col-wise multi-threading, the overhead of testing was 0.001924 seconds.\n",
      "You can set `force_col_wise=true` to remove the overhead.\n",
      "[LightGBM] [Info] Total Bins 7424\n",
      "[LightGBM] [Info] Number of data points in the train set: 14152, number of used features: 41\n",
      "[LightGBM] [Info] Start training from score -0.769475\n",
      "[LightGBM] [Info] Start training from score -4.875480\n",
      "[LightGBM] [Info] Start training from score -0.636554\n"
     ]
    },
    {
     "name": "stderr",
     "output_type": "stream",
     "text": [
      "C:\\Users\\chenl\\anaconda3\\envs\\notebook\\Lib\\site-packages\\sklearn\\metrics\\_classification.py:1471: UndefinedMetricWarning: Precision is ill-defined and being set to 0.0 in labels with no predicted samples. Use `zero_division` parameter to control this behavior.\n",
      "  _warn_prf(average, modifier, msg_start, len(result))\n"
     ]
    },
    {
     "name": "stdout",
     "output_type": "stream",
     "text": [
      "[LightGBM] [Warning] Found whitespace in feature_names, replace with underlines\n",
      "[LightGBM] [Info] Auto-choosing col-wise multi-threading, the overhead of testing was 0.001645 seconds.\n",
      "You can set `force_col_wise=true` to remove the overhead.\n",
      "[LightGBM] [Info] Total Bins 7424\n",
      "[LightGBM] [Info] Number of data points in the train set: 14152, number of used features: 41\n",
      "[LightGBM] [Info] Start training from score -0.769628\n",
      "[LightGBM] [Info] Start training from score -4.875480\n",
      "[LightGBM] [Info] Start training from score -0.636421\n"
     ]
    },
    {
     "name": "stderr",
     "output_type": "stream",
     "text": [
      "C:\\Users\\chenl\\anaconda3\\envs\\notebook\\Lib\\site-packages\\sklearn\\metrics\\_classification.py:1471: UndefinedMetricWarning: Precision is ill-defined and being set to 0.0 in labels with no predicted samples. Use `zero_division` parameter to control this behavior.\n",
      "  _warn_prf(average, modifier, msg_start, len(result))\n"
     ]
    },
    {
     "name": "stdout",
     "output_type": "stream",
     "text": [
      "[LightGBM] [Warning] Found whitespace in feature_names, replace with underlines\n",
      "[LightGBM] [Info] Auto-choosing col-wise multi-threading, the overhead of testing was 0.001885 seconds.\n",
      "You can set `force_col_wise=true` to remove the overhead.\n",
      "[LightGBM] [Info] Total Bins 7424\n",
      "[LightGBM] [Info] Number of data points in the train set: 14152, number of used features: 41\n",
      "[LightGBM] [Info] Start training from score -0.769628\n",
      "[LightGBM] [Info] Start training from score -4.875480\n",
      "[LightGBM] [Info] Start training from score -0.636421\n"
     ]
    },
    {
     "name": "stderr",
     "output_type": "stream",
     "text": [
      "C:\\Users\\chenl\\anaconda3\\envs\\notebook\\Lib\\site-packages\\sklearn\\metrics\\_classification.py:1471: UndefinedMetricWarning: Precision is ill-defined and being set to 0.0 in labels with no predicted samples. Use `zero_division` parameter to control this behavior.\n",
      "  _warn_prf(average, modifier, msg_start, len(result))\n"
     ]
    },
    {
     "name": "stdout",
     "output_type": "stream",
     "text": [
      "[LightGBM] [Warning] Found whitespace in feature_names, replace with underlines\n",
      "[LightGBM] [Info] Auto-choosing col-wise multi-threading, the overhead of testing was 0.002105 seconds.\n",
      "You can set `force_col_wise=true` to remove the overhead.\n",
      "[LightGBM] [Info] Total Bins 7424\n",
      "[LightGBM] [Info] Number of data points in the train set: 14152, number of used features: 41\n",
      "[LightGBM] [Info] Start training from score -0.769628\n",
      "[LightGBM] [Info] Start training from score -4.875480\n",
      "[LightGBM] [Info] Start training from score -0.636421\n"
     ]
    },
    {
     "name": "stderr",
     "output_type": "stream",
     "text": [
      "C:\\Users\\chenl\\anaconda3\\envs\\notebook\\Lib\\site-packages\\sklearn\\metrics\\_classification.py:1471: UndefinedMetricWarning: Precision is ill-defined and being set to 0.0 in labels with no predicted samples. Use `zero_division` parameter to control this behavior.\n",
      "  _warn_prf(average, modifier, msg_start, len(result))\n"
     ]
    },
    {
     "name": "stdout",
     "output_type": "stream",
     "text": [
      "[LightGBM] [Warning] Found whitespace in feature_names, replace with underlines\n",
      "[LightGBM] [Info] Auto-choosing col-wise multi-threading, the overhead of testing was 0.002274 seconds.\n",
      "You can set `force_col_wise=true` to remove the overhead.\n",
      "[LightGBM] [Info] Total Bins 7423\n",
      "[LightGBM] [Info] Number of data points in the train set: 14152, number of used features: 41\n",
      "[LightGBM] [Info] Start training from score -0.769628\n",
      "[LightGBM] [Info] Start training from score -4.875480\n",
      "[LightGBM] [Info] Start training from score -0.636421\n"
     ]
    },
    {
     "name": "stderr",
     "output_type": "stream",
     "text": [
      "C:\\Users\\chenl\\anaconda3\\envs\\notebook\\Lib\\site-packages\\sklearn\\metrics\\_classification.py:1471: UndefinedMetricWarning: Precision is ill-defined and being set to 0.0 in labels with no predicted samples. Use `zero_division` parameter to control this behavior.\n",
      "  _warn_prf(average, modifier, msg_start, len(result))\n"
     ]
    },
    {
     "name": "stdout",
     "output_type": "stream",
     "text": [
      "[LightGBM] [Warning] Found whitespace in feature_names, replace with underlines\n",
      "[LightGBM] [Info] Auto-choosing col-wise multi-threading, the overhead of testing was 0.001751 seconds.\n",
      "You can set `force_col_wise=true` to remove the overhead.\n",
      "[LightGBM] [Info] Total Bins 7424\n",
      "[LightGBM] [Info] Number of data points in the train set: 14152, number of used features: 41\n",
      "[LightGBM] [Info] Start training from score -0.769475\n",
      "[LightGBM] [Info] Start training from score -4.875480\n",
      "[LightGBM] [Info] Start training from score -0.636554\n"
     ]
    },
    {
     "name": "stderr",
     "output_type": "stream",
     "text": [
      "C:\\Users\\chenl\\anaconda3\\envs\\notebook\\Lib\\site-packages\\sklearn\\metrics\\_classification.py:1471: UndefinedMetricWarning: Precision is ill-defined and being set to 0.0 in labels with no predicted samples. Use `zero_division` parameter to control this behavior.\n",
      "  _warn_prf(average, modifier, msg_start, len(result))\n"
     ]
    },
    {
     "name": "stdout",
     "output_type": "stream",
     "text": [
      "[LightGBM] [Warning] Found whitespace in feature_names, replace with underlines\n",
      "[LightGBM] [Info] Auto-choosing col-wise multi-threading, the overhead of testing was 0.001844 seconds.\n",
      "You can set `force_col_wise=true` to remove the overhead.\n",
      "[LightGBM] [Info] Total Bins 7424\n",
      "[LightGBM] [Info] Number of data points in the train set: 14152, number of used features: 41\n",
      "[LightGBM] [Info] Start training from score -0.769628\n",
      "[LightGBM] [Info] Start training from score -4.875480\n",
      "[LightGBM] [Info] Start training from score -0.636421\n"
     ]
    },
    {
     "name": "stderr",
     "output_type": "stream",
     "text": [
      "C:\\Users\\chenl\\anaconda3\\envs\\notebook\\Lib\\site-packages\\sklearn\\metrics\\_classification.py:1471: UndefinedMetricWarning: Precision is ill-defined and being set to 0.0 in labels with no predicted samples. Use `zero_division` parameter to control this behavior.\n",
      "  _warn_prf(average, modifier, msg_start, len(result))\n"
     ]
    },
    {
     "name": "stdout",
     "output_type": "stream",
     "text": [
      "[LightGBM] [Warning] Found whitespace in feature_names, replace with underlines\n",
      "[LightGBM] [Info] Auto-choosing col-wise multi-threading, the overhead of testing was 0.001839 seconds.\n",
      "You can set `force_col_wise=true` to remove the overhead.\n",
      "[LightGBM] [Info] Total Bins 7424\n",
      "[LightGBM] [Info] Number of data points in the train set: 14152, number of used features: 41\n",
      "[LightGBM] [Info] Start training from score -0.769628\n",
      "[LightGBM] [Info] Start training from score -4.875480\n",
      "[LightGBM] [Info] Start training from score -0.636421\n"
     ]
    },
    {
     "name": "stderr",
     "output_type": "stream",
     "text": [
      "C:\\Users\\chenl\\anaconda3\\envs\\notebook\\Lib\\site-packages\\sklearn\\metrics\\_classification.py:1471: UndefinedMetricWarning: Precision is ill-defined and being set to 0.0 in labels with no predicted samples. Use `zero_division` parameter to control this behavior.\n",
      "  _warn_prf(average, modifier, msg_start, len(result))\n"
     ]
    },
    {
     "name": "stdout",
     "output_type": "stream",
     "text": [
      "[LightGBM] [Warning] Found whitespace in feature_names, replace with underlines\n",
      "[LightGBM] [Info] Auto-choosing col-wise multi-threading, the overhead of testing was 0.001947 seconds.\n",
      "You can set `force_col_wise=true` to remove the overhead.\n",
      "[LightGBM] [Info] Total Bins 7424\n",
      "[LightGBM] [Info] Number of data points in the train set: 14152, number of used features: 41\n",
      "[LightGBM] [Info] Start training from score -0.769628\n",
      "[LightGBM] [Info] Start training from score -4.875480\n",
      "[LightGBM] [Info] Start training from score -0.636421\n"
     ]
    },
    {
     "name": "stderr",
     "output_type": "stream",
     "text": [
      "C:\\Users\\chenl\\anaconda3\\envs\\notebook\\Lib\\site-packages\\sklearn\\metrics\\_classification.py:1471: UndefinedMetricWarning: Precision is ill-defined and being set to 0.0 in labels with no predicted samples. Use `zero_division` parameter to control this behavior.\n",
      "  _warn_prf(average, modifier, msg_start, len(result))\n"
     ]
    },
    {
     "name": "stdout",
     "output_type": "stream",
     "text": [
      "[LightGBM] [Warning] Found whitespace in feature_names, replace with underlines\n",
      "[LightGBM] [Info] Auto-choosing col-wise multi-threading, the overhead of testing was 0.001932 seconds.\n",
      "You can set `force_col_wise=true` to remove the overhead.\n",
      "[LightGBM] [Info] Total Bins 7423\n",
      "[LightGBM] [Info] Number of data points in the train set: 14152, number of used features: 41\n",
      "[LightGBM] [Info] Start training from score -0.769628\n",
      "[LightGBM] [Info] Start training from score -4.875480\n",
      "[LightGBM] [Info] Start training from score -0.636421\n"
     ]
    },
    {
     "name": "stderr",
     "output_type": "stream",
     "text": [
      "C:\\Users\\chenl\\anaconda3\\envs\\notebook\\Lib\\site-packages\\sklearn\\metrics\\_classification.py:1471: UndefinedMetricWarning: Precision is ill-defined and being set to 0.0 in labels with no predicted samples. Use `zero_division` parameter to control this behavior.\n",
      "  _warn_prf(average, modifier, msg_start, len(result))\n"
     ]
    },
    {
     "name": "stdout",
     "output_type": "stream",
     "text": [
      "[LightGBM] [Warning] Found whitespace in feature_names, replace with underlines\n",
      "[LightGBM] [Info] Auto-choosing col-wise multi-threading, the overhead of testing was 0.001885 seconds.\n",
      "You can set `force_col_wise=true` to remove the overhead.\n",
      "[LightGBM] [Info] Total Bins 7424\n",
      "[LightGBM] [Info] Number of data points in the train set: 14152, number of used features: 41\n",
      "[LightGBM] [Info] Start training from score -0.769475\n",
      "[LightGBM] [Info] Start training from score -4.875480\n",
      "[LightGBM] [Info] Start training from score -0.636554\n"
     ]
    },
    {
     "name": "stderr",
     "output_type": "stream",
     "text": [
      "C:\\Users\\chenl\\anaconda3\\envs\\notebook\\Lib\\site-packages\\sklearn\\metrics\\_classification.py:1471: UndefinedMetricWarning: Precision is ill-defined and being set to 0.0 in labels with no predicted samples. Use `zero_division` parameter to control this behavior.\n",
      "  _warn_prf(average, modifier, msg_start, len(result))\n"
     ]
    },
    {
     "name": "stdout",
     "output_type": "stream",
     "text": [
      "[LightGBM] [Warning] Found whitespace in feature_names, replace with underlines\n",
      "[LightGBM] [Info] Auto-choosing col-wise multi-threading, the overhead of testing was 0.002052 seconds.\n",
      "You can set `force_col_wise=true` to remove the overhead.\n",
      "[LightGBM] [Info] Total Bins 7424\n",
      "[LightGBM] [Info] Number of data points in the train set: 14152, number of used features: 41\n",
      "[LightGBM] [Info] Start training from score -0.769628\n",
      "[LightGBM] [Info] Start training from score -4.875480\n",
      "[LightGBM] [Info] Start training from score -0.636421\n",
      "[LightGBM] [Warning] Found whitespace in feature_names, replace with underlines\n",
      "[LightGBM] [Info] Auto-choosing col-wise multi-threading, the overhead of testing was 0.001306 seconds.\n",
      "You can set `force_col_wise=true` to remove the overhead.\n",
      "[LightGBM] [Info] Total Bins 7424\n",
      "[LightGBM] [Info] Number of data points in the train set: 14152, number of used features: 41\n",
      "[LightGBM] [Info] Start training from score -0.769628\n",
      "[LightGBM] [Info] Start training from score -4.875480\n",
      "[LightGBM] [Info] Start training from score -0.636421\n"
     ]
    },
    {
     "name": "stderr",
     "output_type": "stream",
     "text": [
      "C:\\Users\\chenl\\anaconda3\\envs\\notebook\\Lib\\site-packages\\sklearn\\metrics\\_classification.py:1471: UndefinedMetricWarning: Precision is ill-defined and being set to 0.0 in labels with no predicted samples. Use `zero_division` parameter to control this behavior.\n",
      "  _warn_prf(average, modifier, msg_start, len(result))\n"
     ]
    },
    {
     "name": "stdout",
     "output_type": "stream",
     "text": [
      "[LightGBM] [Warning] Found whitespace in feature_names, replace with underlines\n",
      "[LightGBM] [Info] Auto-choosing col-wise multi-threading, the overhead of testing was 0.001813 seconds.\n",
      "You can set `force_col_wise=true` to remove the overhead.\n",
      "[LightGBM] [Info] Total Bins 7424\n",
      "[LightGBM] [Info] Number of data points in the train set: 14152, number of used features: 41\n",
      "[LightGBM] [Info] Start training from score -0.769628\n",
      "[LightGBM] [Info] Start training from score -4.875480\n",
      "[LightGBM] [Info] Start training from score -0.636421\n",
      "[LightGBM] [Warning] Found whitespace in feature_names, replace with underlines\n",
      "[LightGBM] [Info] Auto-choosing col-wise multi-threading, the overhead of testing was 0.001722 seconds.\n",
      "You can set `force_col_wise=true` to remove the overhead.\n",
      "[LightGBM] [Info] Total Bins 7423\n",
      "[LightGBM] [Info] Number of data points in the train set: 14152, number of used features: 41\n",
      "[LightGBM] [Info] Start training from score -0.769628\n",
      "[LightGBM] [Info] Start training from score -4.875480\n",
      "[LightGBM] [Info] Start training from score -0.636421\n"
     ]
    },
    {
     "name": "stderr",
     "output_type": "stream",
     "text": [
      "C:\\Users\\chenl\\anaconda3\\envs\\notebook\\Lib\\site-packages\\sklearn\\metrics\\_classification.py:1471: UndefinedMetricWarning: Precision is ill-defined and being set to 0.0 in labels with no predicted samples. Use `zero_division` parameter to control this behavior.\n",
      "  _warn_prf(average, modifier, msg_start, len(result))\n"
     ]
    },
    {
     "name": "stdout",
     "output_type": "stream",
     "text": [
      "[LightGBM] [Warning] Found whitespace in feature_names, replace with underlines\n",
      "[LightGBM] [Info] Auto-choosing col-wise multi-threading, the overhead of testing was 0.002141 seconds.\n",
      "You can set `force_col_wise=true` to remove the overhead.\n",
      "[LightGBM] [Info] Total Bins 7424\n",
      "[LightGBM] [Info] Number of data points in the train set: 14152, number of used features: 41\n",
      "[LightGBM] [Info] Start training from score -0.769475\n",
      "[LightGBM] [Info] Start training from score -4.875480\n",
      "[LightGBM] [Info] Start training from score -0.636554\n"
     ]
    },
    {
     "name": "stderr",
     "output_type": "stream",
     "text": [
      "C:\\Users\\chenl\\anaconda3\\envs\\notebook\\Lib\\site-packages\\sklearn\\metrics\\_classification.py:1471: UndefinedMetricWarning: Precision is ill-defined and being set to 0.0 in labels with no predicted samples. Use `zero_division` parameter to control this behavior.\n",
      "  _warn_prf(average, modifier, msg_start, len(result))\n"
     ]
    },
    {
     "name": "stdout",
     "output_type": "stream",
     "text": [
      "[LightGBM] [Warning] Found whitespace in feature_names, replace with underlines\n",
      "[LightGBM] [Info] Auto-choosing col-wise multi-threading, the overhead of testing was 0.001877 seconds.\n",
      "You can set `force_col_wise=true` to remove the overhead.\n",
      "[LightGBM] [Info] Total Bins 7424\n",
      "[LightGBM] [Info] Number of data points in the train set: 14152, number of used features: 41\n",
      "[LightGBM] [Info] Start training from score -0.769628\n",
      "[LightGBM] [Info] Start training from score -4.875480\n",
      "[LightGBM] [Info] Start training from score -0.636421\n",
      "[LightGBM] [Warning] Found whitespace in feature_names, replace with underlines\n",
      "[LightGBM] [Info] Auto-choosing col-wise multi-threading, the overhead of testing was 0.002031 seconds.\n",
      "You can set `force_col_wise=true` to remove the overhead.\n",
      "[LightGBM] [Info] Total Bins 7424\n",
      "[LightGBM] [Info] Number of data points in the train set: 14152, number of used features: 41\n",
      "[LightGBM] [Info] Start training from score -0.769628\n",
      "[LightGBM] [Info] Start training from score -4.875480\n",
      "[LightGBM] [Info] Start training from score -0.636421\n"
     ]
    },
    {
     "name": "stderr",
     "output_type": "stream",
     "text": [
      "C:\\Users\\chenl\\anaconda3\\envs\\notebook\\Lib\\site-packages\\sklearn\\metrics\\_classification.py:1471: UndefinedMetricWarning: Precision is ill-defined and being set to 0.0 in labels with no predicted samples. Use `zero_division` parameter to control this behavior.\n",
      "  _warn_prf(average, modifier, msg_start, len(result))\n"
     ]
    },
    {
     "name": "stdout",
     "output_type": "stream",
     "text": [
      "[LightGBM] [Warning] Found whitespace in feature_names, replace with underlines\n",
      "[LightGBM] [Info] Auto-choosing col-wise multi-threading, the overhead of testing was 0.002071 seconds.\n",
      "You can set `force_col_wise=true` to remove the overhead.\n",
      "[LightGBM] [Info] Total Bins 7424\n",
      "[LightGBM] [Info] Number of data points in the train set: 14152, number of used features: 41\n",
      "[LightGBM] [Info] Start training from score -0.769628\n",
      "[LightGBM] [Info] Start training from score -4.875480\n",
      "[LightGBM] [Info] Start training from score -0.636421\n"
     ]
    },
    {
     "name": "stderr",
     "output_type": "stream",
     "text": [
      "C:\\Users\\chenl\\anaconda3\\envs\\notebook\\Lib\\site-packages\\sklearn\\metrics\\_classification.py:1471: UndefinedMetricWarning: Precision is ill-defined and being set to 0.0 in labels with no predicted samples. Use `zero_division` parameter to control this behavior.\n",
      "  _warn_prf(average, modifier, msg_start, len(result))\n"
     ]
    },
    {
     "name": "stdout",
     "output_type": "stream",
     "text": [
      "[LightGBM] [Warning] Found whitespace in feature_names, replace with underlines\n",
      "[LightGBM] [Info] Auto-choosing col-wise multi-threading, the overhead of testing was 0.001768 seconds.\n",
      "You can set `force_col_wise=true` to remove the overhead.\n",
      "[LightGBM] [Info] Total Bins 7423\n",
      "[LightGBM] [Info] Number of data points in the train set: 14152, number of used features: 41\n",
      "[LightGBM] [Info] Start training from score -0.769628\n",
      "[LightGBM] [Info] Start training from score -4.875480\n",
      "[LightGBM] [Info] Start training from score -0.636421\n"
     ]
    },
    {
     "name": "stderr",
     "output_type": "stream",
     "text": [
      "C:\\Users\\chenl\\anaconda3\\envs\\notebook\\Lib\\site-packages\\sklearn\\metrics\\_classification.py:1471: UndefinedMetricWarning: Precision is ill-defined and being set to 0.0 in labels with no predicted samples. Use `zero_division` parameter to control this behavior.\n",
      "  _warn_prf(average, modifier, msg_start, len(result))\n"
     ]
    },
    {
     "name": "stdout",
     "output_type": "stream",
     "text": [
      "[LightGBM] [Warning] Found whitespace in feature_names, replace with underlines\n",
      "[LightGBM] [Info] Auto-choosing col-wise multi-threading, the overhead of testing was 0.002244 seconds.\n",
      "You can set `force_col_wise=true` to remove the overhead.\n",
      "[LightGBM] [Info] Total Bins 7424\n",
      "[LightGBM] [Info] Number of data points in the train set: 14152, number of used features: 41\n",
      "[LightGBM] [Info] Start training from score -0.769475\n",
      "[LightGBM] [Info] Start training from score -4.875480\n",
      "[LightGBM] [Info] Start training from score -0.636554\n",
      "[LightGBM] [Warning] Found whitespace in feature_names, replace with underlines\n",
      "[LightGBM] [Info] Auto-choosing col-wise multi-threading, the overhead of testing was 0.001853 seconds.\n",
      "You can set `force_col_wise=true` to remove the overhead.\n",
      "[LightGBM] [Info] Total Bins 7424\n",
      "[LightGBM] [Info] Number of data points in the train set: 14152, number of used features: 41\n",
      "[LightGBM] [Info] Start training from score -0.769628\n",
      "[LightGBM] [Info] Start training from score -4.875480\n",
      "[LightGBM] [Info] Start training from score -0.636421\n",
      "[LightGBM] [Warning] Found whitespace in feature_names, replace with underlines\n",
      "[LightGBM] [Info] Auto-choosing col-wise multi-threading, the overhead of testing was 0.002132 seconds.\n",
      "You can set `force_col_wise=true` to remove the overhead.\n",
      "[LightGBM] [Info] Total Bins 7424\n",
      "[LightGBM] [Info] Number of data points in the train set: 14152, number of used features: 41\n",
      "[LightGBM] [Info] Start training from score -0.769628\n",
      "[LightGBM] [Info] Start training from score -4.875480\n",
      "[LightGBM] [Info] Start training from score -0.636421\n"
     ]
    },
    {
     "name": "stderr",
     "output_type": "stream",
     "text": [
      "C:\\Users\\chenl\\anaconda3\\envs\\notebook\\Lib\\site-packages\\sklearn\\metrics\\_classification.py:1471: UndefinedMetricWarning: Precision is ill-defined and being set to 0.0 in labels with no predicted samples. Use `zero_division` parameter to control this behavior.\n",
      "  _warn_prf(average, modifier, msg_start, len(result))\n"
     ]
    },
    {
     "name": "stdout",
     "output_type": "stream",
     "text": [
      "[LightGBM] [Warning] Found whitespace in feature_names, replace with underlines\n",
      "[LightGBM] [Info] Auto-choosing col-wise multi-threading, the overhead of testing was 0.002089 seconds.\n",
      "You can set `force_col_wise=true` to remove the overhead.\n",
      "[LightGBM] [Info] Total Bins 7424\n",
      "[LightGBM] [Info] Number of data points in the train set: 14152, number of used features: 41\n",
      "[LightGBM] [Info] Start training from score -0.769628\n",
      "[LightGBM] [Info] Start training from score -4.875480\n",
      "[LightGBM] [Info] Start training from score -0.636421\n"
     ]
    },
    {
     "name": "stderr",
     "output_type": "stream",
     "text": [
      "C:\\Users\\chenl\\anaconda3\\envs\\notebook\\Lib\\site-packages\\sklearn\\metrics\\_classification.py:1471: UndefinedMetricWarning: Precision is ill-defined and being set to 0.0 in labels with no predicted samples. Use `zero_division` parameter to control this behavior.\n",
      "  _warn_prf(average, modifier, msg_start, len(result))\n"
     ]
    },
    {
     "name": "stdout",
     "output_type": "stream",
     "text": [
      "[LightGBM] [Warning] Found whitespace in feature_names, replace with underlines\n",
      "[LightGBM] [Info] Auto-choosing col-wise multi-threading, the overhead of testing was 0.001842 seconds.\n",
      "You can set `force_col_wise=true` to remove the overhead.\n",
      "[LightGBM] [Info] Total Bins 7423\n",
      "[LightGBM] [Info] Number of data points in the train set: 14152, number of used features: 41\n",
      "[LightGBM] [Info] Start training from score -0.769628\n",
      "[LightGBM] [Info] Start training from score -4.875480\n",
      "[LightGBM] [Info] Start training from score -0.636421\n"
     ]
    },
    {
     "name": "stderr",
     "output_type": "stream",
     "text": [
      "C:\\Users\\chenl\\anaconda3\\envs\\notebook\\Lib\\site-packages\\sklearn\\metrics\\_classification.py:1471: UndefinedMetricWarning: Precision is ill-defined and being set to 0.0 in labels with no predicted samples. Use `zero_division` parameter to control this behavior.\n",
      "  _warn_prf(average, modifier, msg_start, len(result))\n"
     ]
    },
    {
     "name": "stdout",
     "output_type": "stream",
     "text": [
      "[LightGBM] [Warning] Found whitespace in feature_names, replace with underlines\n",
      "[LightGBM] [Info] Auto-choosing col-wise multi-threading, the overhead of testing was 0.001863 seconds.\n",
      "You can set `force_col_wise=true` to remove the overhead.\n",
      "[LightGBM] [Info] Total Bins 7424\n",
      "[LightGBM] [Info] Number of data points in the train set: 14152, number of used features: 41\n",
      "[LightGBM] [Info] Start training from score -0.769475\n",
      "[LightGBM] [Info] Start training from score -4.875480\n",
      "[LightGBM] [Info] Start training from score -0.636554\n"
     ]
    },
    {
     "name": "stderr",
     "output_type": "stream",
     "text": [
      "C:\\Users\\chenl\\anaconda3\\envs\\notebook\\Lib\\site-packages\\sklearn\\metrics\\_classification.py:1471: UndefinedMetricWarning: Precision is ill-defined and being set to 0.0 in labels with no predicted samples. Use `zero_division` parameter to control this behavior.\n",
      "  _warn_prf(average, modifier, msg_start, len(result))\n"
     ]
    },
    {
     "name": "stdout",
     "output_type": "stream",
     "text": [
      "[LightGBM] [Warning] Found whitespace in feature_names, replace with underlines\n",
      "[LightGBM] [Info] Auto-choosing col-wise multi-threading, the overhead of testing was 0.002174 seconds.\n",
      "You can set `force_col_wise=true` to remove the overhead.\n",
      "[LightGBM] [Info] Total Bins 7424\n",
      "[LightGBM] [Info] Number of data points in the train set: 14152, number of used features: 41\n",
      "[LightGBM] [Info] Start training from score -0.769628\n",
      "[LightGBM] [Info] Start training from score -4.875480\n",
      "[LightGBM] [Info] Start training from score -0.636421\n",
      "[LightGBM] [Warning] Found whitespace in feature_names, replace with underlines\n",
      "[LightGBM] [Info] Auto-choosing col-wise multi-threading, the overhead of testing was 0.001921 seconds.\n",
      "You can set `force_col_wise=true` to remove the overhead.\n",
      "[LightGBM] [Info] Total Bins 7424\n",
      "[LightGBM] [Info] Number of data points in the train set: 14152, number of used features: 41\n",
      "[LightGBM] [Info] Start training from score -0.769628\n",
      "[LightGBM] [Info] Start training from score -4.875480\n",
      "[LightGBM] [Info] Start training from score -0.636421\n"
     ]
    },
    {
     "name": "stderr",
     "output_type": "stream",
     "text": [
      "C:\\Users\\chenl\\anaconda3\\envs\\notebook\\Lib\\site-packages\\sklearn\\metrics\\_classification.py:1471: UndefinedMetricWarning: Precision is ill-defined and being set to 0.0 in labels with no predicted samples. Use `zero_division` parameter to control this behavior.\n",
      "  _warn_prf(average, modifier, msg_start, len(result))\n"
     ]
    },
    {
     "name": "stdout",
     "output_type": "stream",
     "text": [
      "[LightGBM] [Warning] Found whitespace in feature_names, replace with underlines\n",
      "[LightGBM] [Info] Auto-choosing col-wise multi-threading, the overhead of testing was 0.001727 seconds.\n",
      "You can set `force_col_wise=true` to remove the overhead.\n",
      "[LightGBM] [Info] Total Bins 7424\n",
      "[LightGBM] [Info] Number of data points in the train set: 14152, number of used features: 41\n",
      "[LightGBM] [Info] Start training from score -0.769628\n",
      "[LightGBM] [Info] Start training from score -4.875480\n",
      "[LightGBM] [Info] Start training from score -0.636421\n"
     ]
    },
    {
     "name": "stderr",
     "output_type": "stream",
     "text": [
      "C:\\Users\\chenl\\anaconda3\\envs\\notebook\\Lib\\site-packages\\sklearn\\metrics\\_classification.py:1471: UndefinedMetricWarning: Precision is ill-defined and being set to 0.0 in labels with no predicted samples. Use `zero_division` parameter to control this behavior.\n",
      "  _warn_prf(average, modifier, msg_start, len(result))\n"
     ]
    },
    {
     "name": "stdout",
     "output_type": "stream",
     "text": [
      "[LightGBM] [Warning] Found whitespace in feature_names, replace with underlines\n",
      "[LightGBM] [Info] Auto-choosing col-wise multi-threading, the overhead of testing was 0.001940 seconds.\n",
      "You can set `force_col_wise=true` to remove the overhead.\n",
      "[LightGBM] [Info] Total Bins 7423\n",
      "[LightGBM] [Info] Number of data points in the train set: 14152, number of used features: 41\n",
      "[LightGBM] [Info] Start training from score -0.769628\n",
      "[LightGBM] [Info] Start training from score -4.875480\n",
      "[LightGBM] [Info] Start training from score -0.636421\n"
     ]
    },
    {
     "name": "stderr",
     "output_type": "stream",
     "text": [
      "C:\\Users\\chenl\\anaconda3\\envs\\notebook\\Lib\\site-packages\\sklearn\\metrics\\_classification.py:1471: UndefinedMetricWarning: Precision is ill-defined and being set to 0.0 in labels with no predicted samples. Use `zero_division` parameter to control this behavior.\n",
      "  _warn_prf(average, modifier, msg_start, len(result))\n"
     ]
    },
    {
     "name": "stdout",
     "output_type": "stream",
     "text": [
      "[LightGBM] [Warning] Found whitespace in feature_names, replace with underlines\n",
      "[LightGBM] [Info] Auto-choosing col-wise multi-threading, the overhead of testing was 0.001914 seconds.\n",
      "You can set `force_col_wise=true` to remove the overhead.\n",
      "[LightGBM] [Info] Total Bins 7424\n",
      "[LightGBM] [Info] Number of data points in the train set: 14152, number of used features: 41\n",
      "[LightGBM] [Info] Start training from score -0.769475\n",
      "[LightGBM] [Info] Start training from score -4.875480\n",
      "[LightGBM] [Info] Start training from score -0.636554\n",
      "[LightGBM] [Warning] Found whitespace in feature_names, replace with underlines\n",
      "[LightGBM] [Info] Auto-choosing col-wise multi-threading, the overhead of testing was 0.002404 seconds.\n",
      "You can set `force_col_wise=true` to remove the overhead.\n",
      "[LightGBM] [Info] Total Bins 7424\n",
      "[LightGBM] [Info] Number of data points in the train set: 17690, number of used features: 41\n",
      "[LightGBM] [Info] Start training from score -0.769597\n",
      "[LightGBM] [Info] Start training from score -4.875480\n",
      "[LightGBM] [Info] Start training from score -0.636447\n",
      "Validation Performance:\n",
      "Random Forest:\n",
      "              precision    recall  f1-score   support\n",
      "\n",
      "        -1.0       0.81      0.70      0.75      2732\n",
      "         0.0       0.00      0.00      0.00        45\n",
      "         1.0       0.76      0.87      0.81      3120\n",
      "\n",
      "    accuracy                           0.78      5897\n",
      "   macro avg       0.52      0.52      0.52      5897\n",
      "weighted avg       0.78      0.78      0.78      5897\n",
      "\n",
      "Accuracy: 0.7817534339494658\n",
      "Decision Tree:\n",
      "              precision    recall  f1-score   support\n",
      "\n",
      "        -1.0       0.58      0.58      0.58      2732\n",
      "         0.0       0.00      0.00      0.00        45\n",
      "         1.0       0.63      0.64      0.63      3120\n",
      "\n",
      "    accuracy                           0.61      5897\n",
      "   macro avg       0.40      0.41      0.41      5897\n",
      "weighted avg       0.60      0.61      0.60      5897\n",
      "\n",
      "Accuracy: 0.6072579277598779\n",
      "LightGBM:\n",
      "              precision    recall  f1-score   support\n",
      "\n",
      "        -1.0       0.76      0.70      0.73      2732\n",
      "         0.0       0.00      0.00      0.00        45\n",
      "         1.0       0.75      0.81      0.78      3120\n",
      "\n",
      "    accuracy                           0.76      5897\n",
      "   macro avg       0.51      0.51      0.51      5897\n",
      "weighted avg       0.75      0.76      0.75      5897\n",
      "\n",
      "Accuracy: 0.7571646599966084\n"
     ]
    },
    {
     "name": "stderr",
     "output_type": "stream",
     "text": [
      "C:\\Users\\chenl\\anaconda3\\envs\\notebook\\Lib\\site-packages\\sklearn\\metrics\\_classification.py:1471: UndefinedMetricWarning: Precision and F-score are ill-defined and being set to 0.0 in labels with no predicted samples. Use `zero_division` parameter to control this behavior.\n",
      "  _warn_prf(average, modifier, msg_start, len(result))\n",
      "C:\\Users\\chenl\\anaconda3\\envs\\notebook\\Lib\\site-packages\\sklearn\\metrics\\_classification.py:1471: UndefinedMetricWarning: Precision and F-score are ill-defined and being set to 0.0 in labels with no predicted samples. Use `zero_division` parameter to control this behavior.\n",
      "  _warn_prf(average, modifier, msg_start, len(result))\n",
      "C:\\Users\\chenl\\anaconda3\\envs\\notebook\\Lib\\site-packages\\sklearn\\metrics\\_classification.py:1471: UndefinedMetricWarning: Precision and F-score are ill-defined and being set to 0.0 in labels with no predicted samples. Use `zero_division` parameter to control this behavior.\n",
      "  _warn_prf(average, modifier, msg_start, len(result))\n",
      "C:\\Users\\chenl\\anaconda3\\envs\\notebook\\Lib\\site-packages\\sklearn\\metrics\\_classification.py:1471: UndefinedMetricWarning: Precision and F-score are ill-defined and being set to 0.0 in labels with no predicted samples. Use `zero_division` parameter to control this behavior.\n",
      "  _warn_prf(average, modifier, msg_start, len(result))\n",
      "C:\\Users\\chenl\\anaconda3\\envs\\notebook\\Lib\\site-packages\\sklearn\\metrics\\_classification.py:1471: UndefinedMetricWarning: Precision and F-score are ill-defined and being set to 0.0 in labels with no predicted samples. Use `zero_division` parameter to control this behavior.\n",
      "  _warn_prf(average, modifier, msg_start, len(result))\n",
      "C:\\Users\\chenl\\anaconda3\\envs\\notebook\\Lib\\site-packages\\sklearn\\metrics\\_classification.py:1471: UndefinedMetricWarning: Precision and F-score are ill-defined and being set to 0.0 in labels with no predicted samples. Use `zero_division` parameter to control this behavior.\n",
      "  _warn_prf(average, modifier, msg_start, len(result))\n"
     ]
    },
    {
     "name": "stdout",
     "output_type": "stream",
     "text": [
      "Test Performance:\n",
      "Random Forest:\n",
      "              precision    recall  f1-score   support\n",
      "\n",
      "        -1.0       0.80      0.70      0.75      2731\n",
      "         0.0       0.00      0.00      0.00        45\n",
      "         1.0       0.76      0.85      0.80      3121\n",
      "\n",
      "    accuracy                           0.78      5897\n",
      "   macro avg       0.52      0.52      0.52      5897\n",
      "weighted avg       0.77      0.78      0.77      5897\n",
      "\n",
      "Accuracy: 0.7771748346616923\n",
      "Decision Tree:\n",
      "              precision    recall  f1-score   support\n",
      "\n",
      "        -1.0       0.59      0.61      0.60      2731\n",
      "         0.0       0.00      0.00      0.00        45\n",
      "         1.0       0.64      0.63      0.63      3121\n",
      "\n",
      "    accuracy                           0.61      5897\n",
      "   macro avg       0.41      0.41      0.41      5897\n",
      "weighted avg       0.61      0.61      0.61      5897\n",
      "\n",
      "Accuracy: 0.6135323045616415\n",
      "LightGBM:\n",
      "              precision    recall  f1-score   support\n",
      "\n",
      "        -1.0       0.76      0.71      0.73      2731\n",
      "         0.0       0.00      0.00      0.00        45\n",
      "         1.0       0.75      0.81      0.78      3121\n",
      "\n",
      "    accuracy                           0.75      5897\n",
      "   macro avg       0.50      0.50      0.50      5897\n",
      "weighted avg       0.75      0.75      0.75      5897\n",
      "\n",
      "Accuracy: 0.7542818382228251\n"
     ]
    },
    {
     "name": "stderr",
     "output_type": "stream",
     "text": [
      "C:\\Users\\chenl\\anaconda3\\envs\\notebook\\Lib\\site-packages\\sklearn\\metrics\\_classification.py:1471: UndefinedMetricWarning: Precision and F-score are ill-defined and being set to 0.0 in labels with no predicted samples. Use `zero_division` parameter to control this behavior.\n",
      "  _warn_prf(average, modifier, msg_start, len(result))\n",
      "C:\\Users\\chenl\\anaconda3\\envs\\notebook\\Lib\\site-packages\\sklearn\\metrics\\_classification.py:1471: UndefinedMetricWarning: Precision and F-score are ill-defined and being set to 0.0 in labels with no predicted samples. Use `zero_division` parameter to control this behavior.\n",
      "  _warn_prf(average, modifier, msg_start, len(result))\n",
      "C:\\Users\\chenl\\anaconda3\\envs\\notebook\\Lib\\site-packages\\sklearn\\metrics\\_classification.py:1471: UndefinedMetricWarning: Precision and F-score are ill-defined and being set to 0.0 in labels with no predicted samples. Use `zero_division` parameter to control this behavior.\n",
      "  _warn_prf(average, modifier, msg_start, len(result))\n",
      "C:\\Users\\chenl\\anaconda3\\envs\\notebook\\Lib\\site-packages\\sklearn\\metrics\\_classification.py:1471: UndefinedMetricWarning: Precision and F-score are ill-defined and being set to 0.0 in labels with no predicted samples. Use `zero_division` parameter to control this behavior.\n",
      "  _warn_prf(average, modifier, msg_start, len(result))\n",
      "C:\\Users\\chenl\\anaconda3\\envs\\notebook\\Lib\\site-packages\\sklearn\\metrics\\_classification.py:1471: UndefinedMetricWarning: Precision and F-score are ill-defined and being set to 0.0 in labels with no predicted samples. Use `zero_division` parameter to control this behavior.\n",
      "  _warn_prf(average, modifier, msg_start, len(result))\n",
      "C:\\Users\\chenl\\anaconda3\\envs\\notebook\\Lib\\site-packages\\sklearn\\metrics\\_classification.py:1471: UndefinedMetricWarning: Precision and F-score are ill-defined and being set to 0.0 in labels with no predicted samples. Use `zero_division` parameter to control this behavior.\n",
      "  _warn_prf(average, modifier, msg_start, len(result))\n",
      "C:\\Users\\chenl\\anaconda3\\envs\\notebook\\Lib\\site-packages\\sklearn\\metrics\\_classification.py:1471: UndefinedMetricWarning: Precision and F-score are ill-defined and being set to 0.0 in labels with no predicted samples. Use `zero_division` parameter to control this behavior.\n",
      "  _warn_prf(average, modifier, msg_start, len(result))\n",
      "C:\\Users\\chenl\\anaconda3\\envs\\notebook\\Lib\\site-packages\\sklearn\\metrics\\_classification.py:1471: UndefinedMetricWarning: Precision and F-score are ill-defined and being set to 0.0 in labels with no predicted samples. Use `zero_division` parameter to control this behavior.\n",
      "  _warn_prf(average, modifier, msg_start, len(result))\n",
      "C:\\Users\\chenl\\anaconda3\\envs\\notebook\\Lib\\site-packages\\sklearn\\metrics\\_classification.py:1471: UndefinedMetricWarning: Precision and F-score are ill-defined and being set to 0.0 in labels with no predicted samples. Use `zero_division` parameter to control this behavior.\n",
      "  _warn_prf(average, modifier, msg_start, len(result))\n"
     ]
    }
   ],
   "source": [
    "features=['open', 'high', 'low', 'close', 'volume', 'SMA_5', 'SMA_9', 'SMA_18',\n",
    "          # 'SMA_50', 'SMA_100', 'SMA_200', \n",
    "          'RSI_21', 'MACD', 'MACD_hist',\n",
    "       'MACD_signal', 'Bollinger_upper', 'Bollinger_middle', 'Bollinger_lower',\n",
    "       'Bollinger_width', 'ATR', 'rolling_std_14', 'Chandelier_Exit',\n",
    "       'highestHigh', 'lowestLow', 'relativeRange', 'ds', 'dhl', 'SMI',\n",
    "       'SMI_signal', 'signal_ma', 'signal_rsi',\n",
    "       'signal_macd', 'signal_bollinger', 'signal_stochastic', 'signal_BB+RSI',\n",
    "       'signal_Chandelier', \n",
    "          # 'signal_BB+SMI', \n",
    "       'distance from SMA_5 ATR', 'distance from SMA_9 ATR',\n",
    "       'distance from SMA_18 ATR', \n",
    "          # 'distance from SMA_50 ATR',\n",
    "       # 'distance from SMA_100 ATR', \n",
    "          # 'distance from SMA_200 ATR',\n",
    "        'hour of day_10', 'hour of day_11', 'hour of day_12', 'hour of day_13', 'hour of day_14', 'hour of day_15',\n",
    "       'hour of day_16']\n",
    "target_list=['pct_change_2min', 'pct_change_5min', 'pct_change_7min',\n",
    "       'pct_change_10min', 'pct_change_20min', 'pct_change_30min',\n",
    "       'direction_2min', 'direction_5min', 'direction_7min', 'direction_10min',\n",
    "       'direction_20min', 'direction_30min']\n",
    "SPY=SPY[features+['direction_10min']]\n",
    "SPY=SPY.dropna(axis=0)\n",
    "x=SPY[features]\n",
    "y=SPY['direction_10min']\n",
    "# Step 1: Split the data into training and remaining (validation + test)\n",
    "X_train, X_remaining, y_train, y_remaining = train_test_split(x, y, test_size=0.4, stratify=y)\n",
    "\n",
    "# Step 2: Split the remaining data into validation and test sets\n",
    "X_val, X_test, y_val, y_test = train_test_split(X_remaining, y_remaining, test_size=0.5, stratify=y_remaining)\n",
    "\n",
    "# Step 3: Initialize the models\n",
    "rf_model = RandomForestClassifier()\n",
    "dt_model = DecisionTreeClassifier()\n",
    "lgb_model = lgb.LGBMClassifier()\n",
    "\n",
    "param_grid_rf={\n",
    "    'n_estimators': [100, 200],\n",
    "    'max_depth': [10, 20],\n",
    "    'min_samples_split': [10, 20,30]\n",
    "}\n",
    "param_grid_dt={\n",
    "    'max_depth': [10, 20],\n",
    "    'min_samples_split': [10, 20,30],\n",
    "    'min_samples_leaf': [10, 15,30]    \n",
    "}\n",
    "param_grid_lgb={\n",
    "    'num_leaves': [31, 50],\n",
    "    'learning_rate': [0.001,0.01, 0.1],\n",
    "    'n_estimators': [100, 200]    \n",
    "}\n",
    "# Step 5: Use GridSearchCV with cross-validation\n",
    "grid_search_rf = GridSearchCV(estimator=rf_model, param_grid=param_grid_rf, cv=5, scoring='precision_macro')\n",
    "grid_search_dt = GridSearchCV(estimator=dt_model, param_grid=param_grid_dt, cv=5, scoring='precision_macro')\n",
    "grid_search_lgb = GridSearchCV(estimator=lgb_model, param_grid=param_grid_lgb, cv=5, scoring='precision_macro')\n",
    "\n",
    "# Step 6: Fit the models using GridSearchCV\n",
    "grid_search_rf.fit(X_train, y_train)\n",
    "grid_search_dt.fit(X_train, y_train)\n",
    "grid_search_lgb.fit(X_train, y_train)\n",
    "\n",
    "# Step 7: Get the best parameters and best estimator\n",
    "best_rf = grid_search_rf.best_estimator_\n",
    "best_dt = grid_search_dt.best_estimator_\n",
    "best_lgb = grid_search_lgb.best_estimator_\n",
    "\n",
    "# Step 8: Validate the models on the validation set using the best found parameters\n",
    "y_val_pred_rf = best_rf.predict(X_val)\n",
    "y_val_pred_dt = best_dt.predict(X_val)\n",
    "y_val_pred_lgb = best_lgb.predict(X_val)\n",
    "\n",
    "print(\"Validation Performance:\")\n",
    "\n",
    "print(\"Random Forest:\")\n",
    "print(classification_report(y_val, y_val_pred_rf))\n",
    "print(\"Accuracy:\", accuracy_score(y_val, y_val_pred_rf))\n",
    "\n",
    "print(\"Decision Tree:\")\n",
    "print(classification_report(y_val, y_val_pred_dt))\n",
    "print(\"Accuracy:\", accuracy_score(y_val, y_val_pred_dt))\n",
    "\n",
    "print(\"LightGBM:\")\n",
    "print(classification_report(y_val, y_val_pred_lgb))\n",
    "print(\"Accuracy:\", accuracy_score(y_val, y_val_pred_lgb))\n",
    "\n",
    "# Step 9: Evaluate the final model performance on the test set\n",
    "y_test_pred_rf = best_rf.predict(X_test)\n",
    "y_test_pred_dt = best_dt.predict(X_test)\n",
    "y_test_pred_lgb = best_lgb.predict(X_test)\n",
    "\n",
    "print(\"Test Performance:\")\n",
    "\n",
    "print(\"Random Forest:\")\n",
    "print(classification_report(y_test, y_test_pred_rf))\n",
    "print(\"Accuracy:\", accuracy_score(y_test, y_test_pred_rf))\n",
    "\n",
    "print(\"Decision Tree:\")\n",
    "print(classification_report(y_test, y_test_pred_dt))\n",
    "print(\"Accuracy:\", accuracy_score(y_test, y_test_pred_dt))\n",
    "\n",
    "print(\"LightGBM:\")\n",
    "print(classification_report(y_test, y_test_pred_lgb))\n",
    "print(\"Accuracy:\", accuracy_score(y_test, y_test_pred_lgb))"
   ]
  },
  {
   "cell_type": "code",
   "execution_count": 180,
   "id": "410810c3-df6a-4e4b-86aa-d0b081a4f87a",
   "metadata": {},
   "outputs": [],
   "source": [
    "# test data load\n",
    "directory = \"C:/Users/chenl/market data export/MINUTE/\"\n",
    "test = pd.read_csv(directory + \"SPY_min.csv\", parse_dates=[\"date\"])\n",
    "test['time'] = test['date'].dt.time\n",
    "test['date'] = pd.to_datetime(test['date'].dt.date)\n",
    "# Set the multi-level index using the date and time columns\n",
    "test['time'] = test['time'].astype(str).str.zfill(8)\n",
    "test.set_index(['date', 'time'], inplace=True)\n",
    "\n",
    "# Filter 9:30-16:00\n",
    "test = test.loc[(test.index.get_level_values('time') >= '09:00:00') & \n",
    "              (test.index.get_level_values('time') <= '16:00:00')\n",
    "]\n",
    "test.reset_index(inplace=True)\n",
    "test = test.groupby('date').apply(intraday_indicators)\n",
    "test.set_index(['date', 'time'], inplace=True)\n",
    "test = generate_signals(test)\n",
    "test.reset_index(inplace=True) #reset index date and time\n",
    "test['hour of day'] = test['time'].str[:2] #create a column call the hour of the day\n",
    "# distance from MA in ATR\n",
    "SMA_list=['SMA_5','SMA_9', 'SMA_18',  \n",
    "          # 'SMA_50','SMA_100', 'SMA_200'\n",
    "         ]\n",
    "for sma in SMA_list:\n",
    "    test[f\"distance from {sma} ATR\"]=(test[\"close\"]-test[sma])/test[\"ATR\"]\n",
    "# test = test.loc[(SPY['time'] >= '09:30:00') & \n",
    "#               (SPY['time'] <= '16:00:00')\n",
    "#               ]\n",
    "test=test.drop(columns=['date',\"time\"])\n",
    "test = pd.get_dummies(test, columns=['hour of day'], drop_first=True)\n",
    "test=test.dropna()\n",
    "x=test[features]\n",
    "y=test['direction_10min']"
   ]
  },
  {
   "cell_type": "code",
   "execution_count": 182,
   "id": "b6487247-2d06-454e-9e15-3b8b9e1f87b0",
   "metadata": {},
   "outputs": [
    {
     "data": {
      "text/plain": [
       "open                        0\n",
       "high                        0\n",
       "low                         0\n",
       "close                       0\n",
       "volume                      0\n",
       "SMA_5                       0\n",
       "SMA_9                       0\n",
       "SMA_18                      0\n",
       "RSI_21                      0\n",
       "MACD                        0\n",
       "MACD_hist                   0\n",
       "MACD_signal                 0\n",
       "Bollinger_upper             0\n",
       "Bollinger_middle            0\n",
       "Bollinger_lower             0\n",
       "Bollinger_width             0\n",
       "ATR                         0\n",
       "rolling_std_14              0\n",
       "Chandelier_Exit             0\n",
       "highestHigh                 0\n",
       "lowestLow                   0\n",
       "relativeRange               0\n",
       "ds                          0\n",
       "dhl                         0\n",
       "SMI                         0\n",
       "SMI_signal                  0\n",
       "pct_change_2min             0\n",
       "pct_change_5min             0\n",
       "pct_change_7min             0\n",
       "pct_change_10min            0\n",
       "pct_change_20min            0\n",
       "pct_change_30min            0\n",
       "direction_2min              0\n",
       "direction_5min              0\n",
       "direction_7min              0\n",
       "direction_10min             0\n",
       "direction_20min             0\n",
       "direction_30min             0\n",
       "signal_ma                   0\n",
       "signal_rsi                  0\n",
       "signal_macd                 0\n",
       "signal_bollinger            0\n",
       "signal_stochastic           0\n",
       "signal_BB+RSI               0\n",
       "signal_Chandelier           0\n",
       "signal_BB+SMI               0\n",
       "distance from SMA_5 ATR     0\n",
       "distance from SMA_9 ATR     0\n",
       "distance from SMA_18 ATR    0\n",
       "hour of day_10              0\n",
       "hour of day_11              0\n",
       "hour of day_12              0\n",
       "hour of day_13              0\n",
       "hour of day_14              0\n",
       "hour of day_15              0\n",
       "hour of day_16              0\n",
       "dtype: int64"
      ]
     },
     "execution_count": 182,
     "metadata": {},
     "output_type": "execute_result"
    }
   ],
   "source": [
    "test.isna().sum()"
   ]
  },
  {
   "cell_type": "code",
   "execution_count": 178,
   "id": "5a802d7c-c44f-4f6f-81e6-c1c8499e3881",
   "metadata": {},
   "outputs": [
    {
     "data": {
      "text/plain": [
       "831"
      ]
     },
     "execution_count": 178,
     "metadata": {},
     "output_type": "execute_result"
    }
   ],
   "source": []
  },
  {
   "cell_type": "code",
   "execution_count": 181,
   "id": "6b3702c7-bcdd-46d7-b451-685c40ff86c1",
   "metadata": {},
   "outputs": [
    {
     "name": "stdout",
     "output_type": "stream",
     "text": [
      "Validation Performance:\n",
      "Random Forest:\n",
      "              precision    recall  f1-score   support\n",
      "\n",
      "        -1.0       0.52      0.52      0.52       385\n",
      "         0.0       0.00      0.00      0.00         4\n",
      "         1.0       0.58      0.58      0.58       442\n",
      "\n",
      "    accuracy                           0.55       831\n",
      "   macro avg       0.37      0.37      0.37       831\n",
      "weighted avg       0.55      0.55      0.55       831\n",
      "\n",
      "Accuracy: 0.5511432009626955\n",
      "Decision Tree:\n",
      "              precision    recall  f1-score   support\n",
      "\n",
      "        -1.0       0.50      0.57      0.53       385\n",
      "         0.0       0.00      0.00      0.00         4\n",
      "         1.0       0.57      0.50      0.54       442\n",
      "\n",
      "    accuracy                           0.53       831\n",
      "   macro avg       0.36      0.36      0.36       831\n",
      "weighted avg       0.53      0.53      0.53       831\n",
      "\n",
      "Accuracy: 0.5318892900120337\n",
      "LightGBM:\n",
      "              precision    recall  f1-score   support\n",
      "\n",
      "        -1.0       0.50      0.49      0.50       385\n",
      "         0.0       0.00      0.00      0.00         4\n",
      "         1.0       0.56      0.58      0.57       442\n",
      "\n",
      "    accuracy                           0.54       831\n",
      "   macro avg       0.36      0.36      0.36       831\n",
      "weighted avg       0.53      0.54      0.53       831\n",
      "\n",
      "Accuracy: 0.5354993983152828\n"
     ]
    },
    {
     "name": "stderr",
     "output_type": "stream",
     "text": [
      "C:\\Users\\chenl\\anaconda3\\envs\\notebook\\Lib\\site-packages\\sklearn\\metrics\\_classification.py:1471: UndefinedMetricWarning: Precision and F-score are ill-defined and being set to 0.0 in labels with no predicted samples. Use `zero_division` parameter to control this behavior.\n",
      "  _warn_prf(average, modifier, msg_start, len(result))\n",
      "C:\\Users\\chenl\\anaconda3\\envs\\notebook\\Lib\\site-packages\\sklearn\\metrics\\_classification.py:1471: UndefinedMetricWarning: Precision and F-score are ill-defined and being set to 0.0 in labels with no predicted samples. Use `zero_division` parameter to control this behavior.\n",
      "  _warn_prf(average, modifier, msg_start, len(result))\n",
      "C:\\Users\\chenl\\anaconda3\\envs\\notebook\\Lib\\site-packages\\sklearn\\metrics\\_classification.py:1471: UndefinedMetricWarning: Precision and F-score are ill-defined and being set to 0.0 in labels with no predicted samples. Use `zero_division` parameter to control this behavior.\n",
      "  _warn_prf(average, modifier, msg_start, len(result))\n",
      "C:\\Users\\chenl\\anaconda3\\envs\\notebook\\Lib\\site-packages\\sklearn\\metrics\\_classification.py:1471: UndefinedMetricWarning: Precision and F-score are ill-defined and being set to 0.0 in labels with no predicted samples. Use `zero_division` parameter to control this behavior.\n",
      "  _warn_prf(average, modifier, msg_start, len(result))\n",
      "C:\\Users\\chenl\\anaconda3\\envs\\notebook\\Lib\\site-packages\\sklearn\\metrics\\_classification.py:1471: UndefinedMetricWarning: Precision and F-score are ill-defined and being set to 0.0 in labels with no predicted samples. Use `zero_division` parameter to control this behavior.\n",
      "  _warn_prf(average, modifier, msg_start, len(result))\n",
      "C:\\Users\\chenl\\anaconda3\\envs\\notebook\\Lib\\site-packages\\sklearn\\metrics\\_classification.py:1471: UndefinedMetricWarning: Precision and F-score are ill-defined and being set to 0.0 in labels with no predicted samples. Use `zero_division` parameter to control this behavior.\n",
      "  _warn_prf(average, modifier, msg_start, len(result))\n",
      "C:\\Users\\chenl\\anaconda3\\envs\\notebook\\Lib\\site-packages\\sklearn\\metrics\\_classification.py:1471: UndefinedMetricWarning: Precision and F-score are ill-defined and being set to 0.0 in labels with no predicted samples. Use `zero_division` parameter to control this behavior.\n",
      "  _warn_prf(average, modifier, msg_start, len(result))\n",
      "C:\\Users\\chenl\\anaconda3\\envs\\notebook\\Lib\\site-packages\\sklearn\\metrics\\_classification.py:1471: UndefinedMetricWarning: Precision and F-score are ill-defined and being set to 0.0 in labels with no predicted samples. Use `zero_division` parameter to control this behavior.\n",
      "  _warn_prf(average, modifier, msg_start, len(result))\n",
      "C:\\Users\\chenl\\anaconda3\\envs\\notebook\\Lib\\site-packages\\sklearn\\metrics\\_classification.py:1471: UndefinedMetricWarning: Precision and F-score are ill-defined and being set to 0.0 in labels with no predicted samples. Use `zero_division` parameter to control this behavior.\n",
      "  _warn_prf(average, modifier, msg_start, len(result))\n"
     ]
    }
   ],
   "source": [
    "# Step 8: Validate the models on the \n",
    "y_val_pred_rf = best_rf.predict(x)\n",
    "y_val_pred_dt = best_dt.predict(x)\n",
    "y_val_pred_lgb = best_lgb.predict(x)\n",
    "\n",
    "print(\"Validation Performance:\")\n",
    "\n",
    "print(\"Random Forest:\")\n",
    "print(classification_report(y, y_val_pred_rf))\n",
    "print(\"Accuracy:\", accuracy_score(y, y_val_pred_rf))\n",
    "\n",
    "print(\"Decision Tree:\")\n",
    "print(classification_report(y, y_val_pred_dt))\n",
    "print(\"Accuracy:\", accuracy_score(y, y_val_pred_dt))\n",
    "\n",
    "print(\"LightGBM:\")\n",
    "print(classification_report(y, y_val_pred_lgb))\n",
    "print(\"Accuracy:\", accuracy_score(y, y_val_pred_lgb))\n",
    "\n"
   ]
  }
 ],
 "metadata": {
  "kernelspec": {
   "display_name": "Python 3 (ipykernel)",
   "language": "python",
   "name": "python3"
  },
  "language_info": {
   "codemirror_mode": {
    "name": "ipython",
    "version": 3
   },
   "file_extension": ".py",
   "mimetype": "text/x-python",
   "name": "python",
   "nbconvert_exporter": "python",
   "pygments_lexer": "ipython3",
   "version": "3.11.7"
  }
 },
 "nbformat": 4,
 "nbformat_minor": 5
}
